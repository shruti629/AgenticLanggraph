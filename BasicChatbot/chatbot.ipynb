{
 "cells": [
  {
   "cell_type": "markdown",
   "id": "7e06ee86",
   "metadata": {},
   "source": [
    "### Build A Basic Chatbot With Langgraph(GRAPH API)"
   ]
  },
  {
   "cell_type": "code",
   "execution_count": 16,
   "id": "9055239a",
   "metadata": {},
   "outputs": [],
   "source": [
    "from typing import Annotated\n",
    "\n",
    "from typing_extensions import TypedDict\n",
    "\n",
    "from langgraph.graph import StateGraph,START,END\n",
    "from langgraph.graph.message import add_messages\n"
   ]
  },
  {
   "cell_type": "code",
   "execution_count": 17,
   "id": "b393f690",
   "metadata": {},
   "outputs": [],
   "source": [
    "class State(TypedDict):\n",
    "    # Messages have the type \"list\". The `add_messages` function\n",
    "    # in the annotation defines how this state key should be updated\n",
    "    # (in this case, it appends messages to the list, rather than overwriting them)\n",
    "    messages:Annotated[list,add_messages]\n",
    "\n"
   ]
  },
  {
   "cell_type": "code",
   "execution_count": null,
   "id": "f7d367fa",
   "metadata": {},
   "outputs": [],
   "source": []
  },
  {
   "cell_type": "code",
   "execution_count": 18,
   "id": "d23391db",
   "metadata": {},
   "outputs": [
    {
     "data": {
      "text/plain": [
       "True"
      ]
     },
     "execution_count": 18,
     "metadata": {},
     "output_type": "execute_result"
    }
   ],
   "source": [
    "import os\n",
    "from dotenv import load_dotenv\n",
    "load_dotenv()"
   ]
  },
  {
   "cell_type": "code",
   "execution_count": 19,
   "id": "0d18f35a",
   "metadata": {},
   "outputs": [],
   "source": [
    "from langchain_groq import ChatGroq\n",
    "from langchain.chat_models import init_chat_model\n",
    "\n",
    "llm=ChatGroq(model=\"llama3-8b-8192\")"
   ]
  },
  {
   "cell_type": "code",
   "execution_count": 20,
   "id": "b00e0b09",
   "metadata": {},
   "outputs": [
    {
     "data": {
      "text/plain": [
       "ChatGroq(client=<groq.resources.chat.completions.Completions object at 0x00000284A13BD4F0>, async_client=<groq.resources.chat.completions.AsyncCompletions object at 0x00000284A1437FB0>, model_name='llama3-8b-8192', model_kwargs={}, groq_api_key=SecretStr('**********'))"
      ]
     },
     "execution_count": 20,
     "metadata": {},
     "output_type": "execute_result"
    }
   ],
   "source": [
    "llm"
   ]
  },
  {
   "cell_type": "code",
   "execution_count": 21,
   "id": "dc2c52ec",
   "metadata": {},
   "outputs": [
    {
     "data": {
      "text/plain": [
       "ChatGroq(client=<groq.resources.chat.completions.Completions object at 0x00000284A14375F0>, async_client=<groq.resources.chat.completions.AsyncCompletions object at 0x00000284A14362D0>, model_name='llama3-8b-8192', model_kwargs={}, groq_api_key=SecretStr('**********'))"
      ]
     },
     "execution_count": 21,
     "metadata": {},
     "output_type": "execute_result"
    }
   ],
   "source": [
    "llm=init_chat_model(\"groq:llama3-8b-8192\")\n",
    "llm"
   ]
  },
  {
   "cell_type": "code",
   "execution_count": 22,
   "id": "af50c0a6",
   "metadata": {},
   "outputs": [],
   "source": [
    "## Node Functionality\n",
    "def chatbot(state:State):\n",
    "    return {\"messages\":[llm.invoke(state[\"messages\"])]}"
   ]
  },
  {
   "cell_type": "code",
   "execution_count": 23,
   "id": "11b77875",
   "metadata": {},
   "outputs": [],
   "source": [
    "graph_builder=StateGraph(State)\n",
    "\n",
    "## Adding node\n",
    "graph_builder.add_node(\"llmchatbot\",chatbot)\n",
    "## Adding Edges\n",
    "graph_builder.add_edge(START,\"llmchatbot\")\n",
    "graph_builder.add_edge(\"llmchatbot\",END)\n",
    "\n",
    "## compile the graph\n",
    "graph=graph_builder.compile()"
   ]
  },
  {
   "cell_type": "code",
   "execution_count": 24,
   "id": "17b74dd8",
   "metadata": {},
   "outputs": [
    {
     "data": {
      "image/png": "[encoded data removed]",
      "text/plain": [
       "<IPython.core.display.Image object>"
      ]
     },
     "metadata": {},
     "output_type": "display_data"
    }
   ],
   "source": [
    "## Visualize the graph\n",
    "from IPython.display import Image,display\n",
    "\n",
    "try:\n",
    "    display(Image(graph.get_graph().draw_mermaid_png()))\n",
    "except Exception:\n",
    "    pass"
   ]
  },
  {
   "cell_type": "code",
   "execution_count": 25,
   "id": "1d91a7e9",
   "metadata": {},
   "outputs": [],
   "source": [
    "response=graph.invoke({\"messages\":\"How are you?\"})"
   ]
  },
  {
   "cell_type": "code",
   "execution_count": 26,
   "id": "323b71a2",
   "metadata": {},
   "outputs": [
    {
     "data": {
      "text/plain": [
       "\"I'm just a language model, so I don't have emotions or feelings like humans do. However, I'm functioning properly and ready to assist with any questions or tasks you may have!\""
      ]
     },
     "execution_count": 26,
     "metadata": {},
     "output_type": "execute_result"
    }
   ],
   "source": [
    "response[\"messages\"][-1].content"
   ]
  },
  {
   "cell_type": "code",
   "execution_count": 27,
   "id": "bd9240e9",
   "metadata": {},
   "outputs": [
    {
     "name": "stdout",
     "output_type": "stream",
     "text": [
      "Hi! I'm just an AI, so I don't have feelings or emotions like humans do, but I'm functioning properly and ready to help you with any questions or tasks you may have. How can I assist you today?\n"
     ]
    }
   ],
   "source": [
    "for event in graph.stream({\"messages\":\"Hi How are you?\"}):\n",
    "    for value in event.values():\n",
    "        print(value[\"messages\"][-1].content)"
   ]
  },
  {
   "cell_type": "markdown",
   "id": "a04b696d",
   "metadata": {},
   "source": [
    "### Chatbot With Tool"
   ]
  },
  {
   "cell_type": "code",
   "execution_count": 58,
   "id": "447e146a",
   "metadata": {},
   "outputs": [
    {
     "data": {
      "text/plain": [
       "{'query': 'What is AI Agents ?',\n",
       " 'follow_up_questions': None,\n",
       " 'answer': None,\n",
       " 'images': [],\n",
       " 'results': [{'title': 'What Are AI Agents? | IBM',\n",
       "   'url': 'https://www.ibm.com/think/topics/ai-agents',\n",
       "   'content': \"# What are AI agents? ## What are AI agents? The agent's ability to store past interactions in memory and plan future actions encourages a personalized experience and comprehensive responses.1 This tool calling can be achieved without human intervention and broadens the possibilities for real-world applications of these AI systems. Given the user's goals and the agent’s available tools, the AI agent then performs task decomposition to improve performance.3 Essentially, the agent creates a plan of specific tasks and subtasks to accomplish the complex goal. In contrast, agentic AI chatbots learn to adapt to user expectations over time, providing a more personalized experience and comprehensive responses. AI agents are AI tools that can automate complex tasks that would otherwise require human resources.\",\n",
       "   'score': 0.9191869,\n",
       "   'raw_content': None},\n",
       "  {'title': 'What are AI agents? Definition, examples, and types | Google Cloud',\n",
       "   'url': 'https://cloud.google.com/discover/what-are-ai-agents',\n",
       "   'content': 'AI agents can process multimodal information like text, voice, video, audio, code, and more simultaneously; can converse, reason, learn, and make decisions. *   **Acting**: The ability to take action or perform tasks based on decisions, plans, or external input is crucial for AI agents to interact with their environment and achieve goals. **AI assistants** are AI agents designed as applications or products to collaborate directly with users and perform tasks by understanding and responding to natural human language and inputs. Google Cloud and AI agents Google Cloud provides a portfolio of products and solutions in the AI agent space. *   Why Google Cloud *   Generative AI on Google Cloud *   Google Cloud Databases',\n",
       "   'score': 0.82492816,\n",
       "   'raw_content': None}],\n",
       " 'response_time': 0.76}"
      ]
     },
     "execution_count": 58,
     "metadata": {},
     "output_type": "execute_result"
    }
   ],
   "source": [
    "from langchain_tavily import TavilySearch\n",
    "\n",
    "tool=TavilySearch(max_results=2)\n",
    "tool.invoke(\"What is AI Agents ?\")"
   ]
  },
  {
   "cell_type": "code",
   "execution_count": 69,
   "id": "cd185da9",
   "metadata": {},
   "outputs": [],
   "source": [
    "## Custom function\n",
    "def Multiply(a:int,b:int)->int:\n",
    "    \"\"\"Multiply a and b\n",
    "\n",
    "    Args:\n",
    "        a (int): first int\n",
    "        b (int): second int\n",
    "\n",
    "    Returns:\n",
    "        int: output int\n",
    "    \"\"\"\n",
    "    return a*b"
   ]
  },
  {
   "cell_type": "code",
   "execution_count": 70,
   "id": "bf5e176d",
   "metadata": {},
   "outputs": [],
   "source": [
    "tools=[tool,Multiply]"
   ]
  },
  {
   "cell_type": "code",
   "execution_count": 71,
   "id": "046be79e",
   "metadata": {},
   "outputs": [],
   "source": [
    "llm_with_tool=llm.bind_tools(tools)"
   ]
  },
  {
   "cell_type": "code",
   "execution_count": 72,
   "id": "e19544d2",
   "metadata": {},
   "outputs": [
    {
     "data": {
      "text/plain": [
       "RunnableBinding(bound=ChatGroq(client=<groq.resources.chat.completions.Completions object at 0x00000284A14375F0>, async_client=<groq.resources.chat.completions.AsyncCompletions object at 0x00000284A14362D0>, model_name='llama3-8b-8192', model_kwargs={}, groq_api_key=SecretStr('**********')), kwargs={'tools': [{'type': 'function', 'function': {'name': 'tavily_search', 'description': 'A search engine optimized for comprehensive, accurate, and trusted results. Useful for when you need to answer questions about current events. It not only retrieves URLs and snippets, but offers advanced search depths, domain management, time range filters, and image search, this tool delivers real-time, accurate, and citation-backed results.Input should be a search query.', 'parameters': {'properties': {'query': {'description': 'Search query to look up', 'type': 'string'}, 'include_domains': {'anyOf': [{'items': {'type': 'string'}, 'type': 'array'}, {'type': 'null'}], 'default': [], 'description': 'A list of domains to restrict search results to.\\n\\n        Use this parameter when:\\n        1. The user explicitly requests information from specific websites (e.g., \"Find climate data from nasa.gov\")\\n        2. The user mentions an organization or company without specifying the domain (e.g., \"Find information about iPhones from Apple\")\\n\\n        In both cases, you should determine the appropriate domains (e.g., [\"nasa.gov\"] or [\"apple.com\"]) and set this parameter.\\n\\n        Results will ONLY come from the specified domains - no other sources will be included.\\n        Default is None (no domain restriction).\\n        '}, 'exclude_domains': {'anyOf': [{'items': {'type': 'string'}, 'type': 'array'}, {'type': 'null'}], 'default': [], 'description': 'A list of domains to exclude from search results.\\n\\n        Use this parameter when:\\n        1. The user explicitly requests to avoid certain websites (e.g., \"Find information about climate change but not from twitter.com\")\\n        2. The user mentions not wanting results from specific organizations without naming the domain (e.g., \"Find phone reviews but nothing from Apple\")\\n\\n        In both cases, you should determine the appropriate domains to exclude (e.g., [\"twitter.com\"] or [\"apple.com\"]) and set this parameter.\\n\\n        Results will filter out all content from the specified domains.\\n        Default is None (no domain exclusion).\\n        '}, 'search_depth': {'anyOf': [{'enum': ['basic', 'advanced'], 'type': 'string'}, {'type': 'null'}], 'default': 'basic', 'description': 'Controls search thoroughness and result comprehensiveness.\\n    \\n        Use \"basic\" for simple queries requiring quick, straightforward answers.\\n        \\n        Use \"advanced\" (default) for complex queries, specialized topics, \\n        rare information, or when in-depth analysis is needed.\\n        '}, 'include_images': {'anyOf': [{'type': 'boolean'}, {'type': 'null'}], 'default': False, 'description': 'Determines if the search returns relevant images along with text results.\\n   \\n        Set to True when the user explicitly requests visuals or when images would \\n        significantly enhance understanding (e.g., \"Show me what black holes look like,\" \\n        \"Find pictures of Renaissance art\").\\n        \\n        Leave as False (default) for most informational queries where text is sufficient.\\n        '}, 'time_range': {'anyOf': [{'enum': ['day', 'week', 'month', 'year'], 'type': 'string'}, {'type': 'null'}], 'default': None, 'description': 'Limits results to content published within a specific timeframe.\\n        \\n        ONLY set this when the user explicitly mentions a time period \\n        (e.g., \"latest AI news,\" \"articles from last week\").\\n        \\n        For less popular or niche topics, use broader time ranges \\n        (\"month\" or \"year\") to ensure sufficient relevant results.\\n   \\n        Options: \"day\" (24h), \"week\" (7d), \"month\" (30d), \"year\" (365d).\\n        \\n        Default is None.\\n        '}, 'topic': {'anyOf': [{'enum': ['general', 'news', 'finance'], 'type': 'string'}, {'type': 'null'}], 'default': 'general', 'description': 'Specifies search category for optimized results.\\n   \\n        Use \"general\" (default) for most queries, INCLUDING those with terms like \\n        \"latest,\" \"newest,\" or \"recent\" when referring to general information.\\n\\n        Use \"finance\" for markets, investments, economic data, or financial news.\\n\\n        Use \"news\" ONLY for politics, sports, or major current events covered by \\n        mainstream media - NOT simply because a query asks for \"new\" information.\\n        '}}, 'required': ['query'], 'type': 'object'}}}, {'type': 'function', 'function': {'name': 'Multiply', 'description': 'Multiply a and b', 'parameters': {'properties': {'a': {'description': 'first int', 'type': 'integer'}, 'b': {'description': 'second int', 'type': 'integer'}}, 'required': ['a', 'b'], 'type': 'object'}}}]}, config={}, config_factories=[])"
      ]
     },
     "execution_count": 72,
     "metadata": {},
     "output_type": "execute_result"
    }
   ],
   "source": [
    "llm_with_tool"
   ]
  },
  {
   "cell_type": "code",
   "execution_count": 73,
   "id": "550d837b",
   "metadata": {},
   "outputs": [
    {
     "data": {
      "image/png": "[encoded data removed]",
      "text/plain": [
       "<IPython.core.display.Image object>"
      ]
     },
     "metadata": {},
     "output_type": "display_data"
    }
   ],
   "source": [
    "## Stategraph\n",
    "from langgraph.graph import StateGraph,START,END\n",
    "from langgraph.prebuilt import ToolNode\n",
    "from langgraph.prebuilt import tools_condition\n",
    "\n",
    "## Node definition\n",
    "def tool_calling_llm(state:State):\n",
    "    return {\"messages\":[llm_with_tool.invoke(state[\"messages\"])]}\n",
    "\n",
    "## Grpah\n",
    "builder=StateGraph(State)\n",
    "builder.add_node(\"tool_calling_llm\",tool_calling_llm)\n",
    "builder.add_node(\"tools\",ToolNode(tools))\n",
    "\n",
    "## Add Edges\n",
    "builder.add_edge(START, \"tool_calling_llm\")\n",
    "builder.add_conditional_edges(\n",
    "    \"tool_calling_llm\",\n",
    "    # If the latest message (result) from assistant is a tool call -> tools_condition routes to tools\n",
    "    # If the latest message (result) from assistant is a not a tool call -> tools_condition routes to END\n",
    "    tools_condition\n",
    ")\n",
    "builder.add_edge(\"tools\",END)\n",
    "\n",
    "## compile the graph\n",
    "graph=builder.compile()\n",
    "\n",
    "from IPython.display import Image, display\n",
    "display(Image(graph.get_graph().draw_mermaid_png()))\n",
    "\n"
   ]
  },
  {
   "cell_type": "code",
   "execution_count": 74,
   "id": "d802d254",
   "metadata": {},
   "outputs": [],
   "source": [
    "response=graph.invoke({\"messages\":\"What is the recent ai news\"})"
   ]
  },
  {
   "cell_type": "code",
   "execution_count": 75,
   "id": "0f6168c2",
   "metadata": {},
   "outputs": [
    {
     "data": {
      "text/plain": [
       "'{\"query\": \"recent ai news\", \"follow_up_questions\": null, \"answer\": null, \"images\": [], \"results\": [{\"url\": \"https://yourstory.com/2025/06/workforce-needs-technical-skills\", \"title\": \"The AI Revolution: Why tomorrow\\'s workforce needs more than technical skills - YourStory.com\", \"score\": 0.7140107, \"published_date\": \"Mon, 30 Jun 2025 11:22:21 GMT\", \"content\": \"June 26, 2025, 11 min Read Image 26\\\\\")ys-in-depth ### Adda Education gives skilling a big push as it looks beyond test-prep June 26, 2025, 11 min Read Image 27events ### Don’t fear AI; it will soon be part of everything you do: Dell Technologies’ Vivekanandh NR on building an AI-first mindset June 25, 2025, 5 min Read Image 28herstoryys-report ### Women engineering students show growing interest in AI/ML careers: Report June 24, 2025, 3 min Read Image 29\", \"raw_content\": null}, {\"url\": \"https://www.csoonline.com/article/4014238/cybercriminals-take-malicious-ai-to-the-next-level.html\", \"title\": \"Cybercriminals take malicious AI to the next level - csoonline.com\", \"score\": 0.71185225, \"published_date\": \"Mon, 30 Jun 2025 08:32:14 GMT\", \"content\": \"Opinion ### The rise of the compliance super soldier: A new human-AI paradigm in GRC By Nikhil Sarnot Jun 27, 2025 9 mins Compliance Generative AI IT Governance FrameworksNews Analysis ### Pressure is mounting to cut jobs in favor of AI. Here’s why you shouldn’t. By John Leyden Jun 26, 2025 5 mins IT Jobs Security Operations Center Technology IndustryNews ### The top red teamer in the US is an AI bot By Taryn Plumb Jun 25, 2025 5 mins Artificial Intelligence Generative AI Hacking\", \"raw_content\": null}], \"response_time\": 1.17}'"
      ]
     },
     "execution_count": 75,
     "metadata": {},
     "output_type": "execute_result"
    }
   ],
   "source": [
    "response['messages'][-1].content"
   ]
  },
  {
   "cell_type": "code",
   "execution_count": 76,
   "id": "8051ed54",
   "metadata": {},
   "outputs": [
    {
     "name": "stdout",
     "output_type": "stream",
     "text": [
      "================================\u001b[1m Human Message \u001b[0m=================================\n",
      "\n",
      "What is the recent ai news\n",
      "==================================\u001b[1m Ai Message \u001b[0m==================================\n",
      "Tool Calls:\n",
      "  tavily_search (kwe8bfn5p)\n",
      " Call ID: kwe8bfn5p\n",
      "  Args:\n",
      "    query: recent ai news\n",
      "    search_depth: advanced\n",
      "    time_range: day\n",
      "    topic: news\n",
      "=================================\u001b[1m Tool Message \u001b[0m=================================\n",
      "Name: tavily_search\n",
      "\n",
      "{\"query\": \"recent ai news\", \"follow_up_questions\": null, \"answer\": null, \"images\": [], \"results\": [{\"url\": \"https://yourstory.com/2025/06/workforce-needs-technical-skills\", \"title\": \"The AI Revolution: Why tomorrow's workforce needs more than technical skills - YourStory.com\", \"score\": 0.7140107, \"published_date\": \"Mon, 30 Jun 2025 11:22:21 GMT\", \"content\": \"June 26, 2025, 11 min Read Image 26\\\")ys-in-depth ### Adda Education gives skilling a big push as it looks beyond test-prep June 26, 2025, 11 min Read Image 27events ### Don’t fear AI; it will soon be part of everything you do: Dell Technologies’ Vivekanandh NR on building an AI-first mindset June 25, 2025, 5 min Read Image 28herstoryys-report ### Women engineering students show growing interest in AI/ML careers: Report June 24, 2025, 3 min Read Image 29\", \"raw_content\": null}, {\"url\": \"https://www.csoonline.com/article/4014238/cybercriminals-take-malicious-ai-to-the-next-level.html\", \"title\": \"Cybercriminals take malicious AI to the next level - csoonline.com\", \"score\": 0.71185225, \"published_date\": \"Mon, 30 Jun 2025 08:32:14 GMT\", \"content\": \"Opinion ### The rise of the compliance super soldier: A new human-AI paradigm in GRC By Nikhil Sarnot Jun 27, 2025 9 mins Compliance Generative AI IT Governance FrameworksNews Analysis ### Pressure is mounting to cut jobs in favor of AI. Here’s why you shouldn’t. By John Leyden Jun 26, 2025 5 mins IT Jobs Security Operations Center Technology IndustryNews ### The top red teamer in the US is an AI bot By Taryn Plumb Jun 25, 2025 5 mins Artificial Intelligence Generative AI Hacking\", \"raw_content\": null}], \"response_time\": 1.17}\n"
     ]
    }
   ],
   "source": [
    "for m in response['messages']:\n",
    "    m.pretty_print()"
   ]
  },
  {
   "cell_type": "code",
   "execution_count": 77,
   "id": "36f8fb4e",
   "metadata": {},
   "outputs": [
    {
     "name": "stdout",
     "output_type": "stream",
     "text": [
      "================================\u001b[1m Human Message \u001b[0m=================================\n",
      "\n",
      "What is 5 multiplied by 2\n",
      "==================================\u001b[1m Ai Message \u001b[0m==================================\n",
      "Tool Calls:\n",
      "  Multiply (82976gt2a)\n",
      " Call ID: 82976gt2a\n",
      "  Args:\n",
      "    a: 5\n",
      "    b: 2\n",
      "=================================\u001b[1m Tool Message \u001b[0m=================================\n",
      "Name: Multiply\n",
      "\n",
      "10\n"
     ]
    }
   ],
   "source": [
    "response=graph.invoke({\"messages\":\"What is 5 multiplied by 2\"})\n",
    "for m in response['messages']:\n",
    "    m.pretty_print()\n"
   ]
  },
  {
   "cell_type": "code",
   "execution_count": 78,
   "id": "adb7c3fd",
   "metadata": {},
   "outputs": [
    {
     "name": "stdout",
     "output_type": "stream",
     "text": [
      "================================\u001b[1m Human Message \u001b[0m=================================\n",
      "\n",
      "Give me the recent ai news and then multiply 5 by 10\n",
      "==================================\u001b[1m Ai Message \u001b[0m==================================\n",
      "Tool Calls:\n",
      "  tavily_search (c8yfys26d)\n",
      " Call ID: c8yfys26d\n",
      "  Args:\n",
      "    query: recent ai news\n",
      "    search_depth: advanced\n",
      "    time_range: day\n",
      "    topic: news\n",
      "  Multiply (cy3fmww6y)\n",
      " Call ID: cy3fmww6y\n",
      "  Args:\n",
      "    a: 5\n",
      "    b: 10\n",
      "=================================\u001b[1m Tool Message \u001b[0m=================================\n",
      "Name: tavily_search\n",
      "\n",
      "{\"query\": \"recent ai news\", \"follow_up_questions\": null, \"answer\": null, \"images\": [], \"results\": [{\"url\": \"https://yourstory.com/2025/06/workforce-needs-technical-skills\", \"title\": \"The AI Revolution: Why tomorrow's workforce needs more than technical skills - YourStory.com\", \"score\": 0.7140107, \"published_date\": \"Mon, 30 Jun 2025 11:22:21 GMT\", \"content\": \"June 26, 2025, 11 min Read Image 26\\\")ys-in-depth ### Adda Education gives skilling a big push as it looks beyond test-prep June 26, 2025, 11 min Read Image 27events ### Don’t fear AI; it will soon be part of everything you do: Dell Technologies’ Vivekanandh NR on building an AI-first mindset June 25, 2025, 5 min Read Image 28herstoryys-report ### Women engineering students show growing interest in AI/ML careers: Report June 24, 2025, 3 min Read Image 29\", \"raw_content\": null}, {\"url\": \"https://www.csoonline.com/article/4014238/cybercriminals-take-malicious-ai-to-the-next-level.html\", \"title\": \"Cybercriminals take malicious AI to the next level - csoonline.com\", \"score\": 0.71185225, \"published_date\": \"Mon, 30 Jun 2025 08:32:14 GMT\", \"content\": \"Opinion ### The rise of the compliance super soldier: A new human-AI paradigm in GRC By Nikhil Sarnot Jun 27, 2025 9 mins Compliance Generative AI IT Governance FrameworksNews Analysis ### Pressure is mounting to cut jobs in favor of AI. Here’s why you shouldn’t. By John Leyden Jun 26, 2025 5 mins IT Jobs Security Operations Center Technology IndustryNews ### The top red teamer in the US is an AI bot By Taryn Plumb Jun 25, 2025 5 mins Artificial Intelligence Generative AI Hacking\", \"raw_content\": null}], \"response_time\": 1.35}\n",
      "=================================\u001b[1m Tool Message \u001b[0m=================================\n",
      "Name: Multiply\n",
      "\n",
      "50\n"
     ]
    }
   ],
   "source": [
    "response=graph.invoke({\"messages\":\"Give me the recent ai news and then multiply 5 by 10\"})\n",
    "for m in response['messages']:\n",
    "    m.pretty_print()"
   ]
  },
  {
   "cell_type": "markdown",
   "id": "28fd11d4",
   "metadata": {},
   "source": [
    "### ReAct Agent Architecture"
   ]
  },
  {
   "cell_type": "code",
   "execution_count": 39,
   "id": "8676799c",
   "metadata": {},
   "outputs": [
    {
     "data": {
      "image/png": "[encoded data removed]",
      "text/plain": [
       "<IPython.core.display.Image object>"
      ]
     },
     "metadata": {},
     "output_type": "display_data"
    }
   ],
   "source": [
    "## Stategraph\n",
    "from langgraph.graph import StateGraph,START,END\n",
    "from langgraph.prebuilt import ToolNode\n",
    "from langgraph.prebuilt import tools_condition\n",
    "\n",
    "## Node definition\n",
    "def tool_calling_llm(state:State):\n",
    "    return {\"messages\":[llm_with_tool.invoke(state[\"messages\"])]}\n",
    "\n",
    "## Grpah\n",
    "builder=StateGraph(State)\n",
    "builder.add_node(\"tool_calling_llm\",tool_calling_llm)\n",
    "builder.add_node(\"tools\",ToolNode(tools))\n",
    "\n",
    "## Add Edges\n",
    "builder.add_edge(START, \"tool_calling_llm\")\n",
    "builder.add_conditional_edges(\n",
    "    \"tool_calling_llm\",\n",
    "    # If the latest message (result) from assistant is a tool call -> tools_condition routes to tools\n",
    "    # If the latest message (result) from assistant is a not a tool call -> tools_condition routes to END\n",
    "    tools_condition\n",
    ")\n",
    "builder.add_edge(\"tools\",\"tool_calling_llm\")\n",
    "\n",
    "## compile the graph\n",
    "graph=builder.compile()\n",
    "\n",
    "from IPython.display import Image, display\n",
    "display(Image(graph.get_graph().draw_mermaid_png()))"
   ]
  },
  {
   "cell_type": "code",
   "execution_count": 79,
   "id": "9749684a",
   "metadata": {},
   "outputs": [
    {
     "name": "stdout",
     "output_type": "stream",
     "text": [
      "================================\u001b[1m Human Message \u001b[0m=================================\n",
      "\n",
      "Give me the recent ai news and then multiply 5 by 10\n",
      "==================================\u001b[1m Ai Message \u001b[0m==================================\n",
      "Tool Calls:\n",
      "  tavily_search (rw6sdvzzm)\n",
      " Call ID: rw6sdvzzm\n",
      "  Args:\n",
      "    query: recent ai news\n",
      "    search_depth: advanced\n",
      "    topic: general\n",
      "  Multiply (t0v27y4bc)\n",
      " Call ID: t0v27y4bc\n",
      "  Args:\n",
      "    a: 5\n",
      "    b: 10\n",
      "=================================\u001b[1m Tool Message \u001b[0m=================================\n",
      "Name: tavily_search\n",
      "\n",
      "{\"query\": \"recent ai news\", \"follow_up_questions\": null, \"answer\": null, \"images\": [], \"results\": [{\"url\": \"https://blog.google/technology/ai/google-ai-updates-may-2025/\", \"title\": \"The latest AI news we announced in May - Google Blog\", \"content\": \"\\\"The Latest AI News We Announced in May\\\" shares Google's recent AI advancements across products and research.\\n Google is integrating AI into Search with AI Mode, Deep Search, and Project Astra's live capabilities.\\n New AI shopping experiences in AI Mode help you find products, try them on virtually, and checkout easily.\\n Gemini is coming to glasses and headsets via Android XR, offering a natural AI experience. [...] # The latest AI news we announced in May\\n\\nJun 05, 2025\\n\\nHere’s a recap of some of our biggest AI updates from May, including the releases at I/O and Google Marketing Live, news about AI Mode, new capabilities in the Gemini app and our new AI-powered filmmaking tool, Flow.\\n\\nSuperG\\n\\n## General summary\", \"score\": 0.8660535, \"raw_content\": null}, {\"url\": \"https://www.crescendo.ai/news/latest-ai-news-and-updates\", \"title\": \"Latest AI Breakthroughs and News: May-June 2025 - Crescendo.ai\", \"content\": \"### Ex-OpenAI Staff Say Safety Was Sacrificed for Profit\\n\\nDate: June 20, 2025  \\nSummary: Former OpenAI employees have accused the company of prioritizing profits over safety and transparency in a newly released letter. The letter claims OpenAI leaders ignored internal concerns and retaliated against those who raised issues. The group is calling for stronger whistleblower protections and public accountability. This adds fuel to the growing debate over AI ethics and regulation.  \\nSource: AI News [...] Date: June 20, 2025  \\nSummary: Nvidia and Foxconn are reportedly in discussions to deploy humanoid robots at Foxconnâs new AI server plant in Houston. The robots would perform factory floor tasks, potentially improving efficiency and cutting labor costs. The move comes as manufacturers worldwide explore robotics to meet demand and offset labor shortages. If implemented, it could mark a significant leap in AI-powered automation.  \\nSource: Reuters [...] Date: June 20, 2025  \\nSummary: Cybersecurity researchers have uncovered new malicious AI variants based on WormGPT, including strains built on Grok and Mixtral models. These tools are being used to automate phishing, malware creation, and other cyberattacks with advanced precision. The discovery shows how open-source LLMs can be weaponized for nefarious purposes. Experts are urging stronger AI safety and security protocols.  \\nSource: CSO Online\", \"score\": 0.85797083, \"raw_content\": null}], \"response_time\": 4.72}\n",
      "=================================\u001b[1m Tool Message \u001b[0m=================================\n",
      "Name: Multiply\n",
      "\n",
      "50\n"
     ]
    }
   ],
   "source": [
    "response=graph.invoke({\"messages\":\"Give me the recent ai news and then multiply 5 by 10\"})\n",
    "for m in response['messages']:\n",
    "    m.pretty_print()"
   ]
  },
  {
   "cell_type": "markdown",
   "id": "3fb80059",
   "metadata": {},
   "source": [
    "## Adding Memory In Agentic Graph"
   ]
  },
  {
   "cell_type": "code",
   "execution_count": 80,
   "id": "0249955f",
   "metadata": {},
   "outputs": [
    {
     "name": "stdout",
     "output_type": "stream",
     "text": [
      "================================\u001b[1m Human Message \u001b[0m=================================\n",
      "\n",
      "Hello my name is Shruti\n",
      "==================================\u001b[1m Ai Message \u001b[0m==================================\n",
      "\n",
      "Nice to meet you, Shruti! I'm happy to chat with you. Would you like to ask me a question or discuss a topic?\n"
     ]
    }
   ],
   "source": [
    "response=graph.invoke({\"messages\":\"Hello my name is Shruti\"})\n",
    "for m in response['messages']:\n",
    "    m.pretty_print()"
   ]
  },
  {
   "cell_type": "code",
   "execution_count": 84,
   "id": "e852099b",
   "metadata": {},
   "outputs": [
    {
     "name": "stdout",
     "output_type": "stream",
     "text": [
      "================================\u001b[1m Human Message \u001b[0m=================================\n",
      "\n",
      "Hey what is my name?\n",
      "==================================\u001b[1m Ai Message \u001b[0m==================================\n",
      "\n",
      "I'm not aware of your name. Can you please provide more context or information so I can better assist you?\n"
     ]
    }
   ],
   "source": [
    "response=graph.invoke({\"messages\":\"Hey what is my name?\"})\n",
    "for m in response['messages']:\n",
    "    m.pretty_print()"
   ]
  },
  {
   "cell_type": "code",
   "execution_count": 85,
   "id": "4bf6c416",
   "metadata": {},
   "outputs": [
    {
     "data": {
      "image/png": "[encoded data removed]",
      "text/plain": [
       "<IPython.core.display.Image object>"
      ]
     },
     "metadata": {},
     "output_type": "display_data"
    }
   ],
   "source": [
    "## Stategraph\n",
    "from langgraph.graph import StateGraph,START,END\n",
    "from langgraph.prebuilt import ToolNode\n",
    "from langgraph.prebuilt import tools_condition\n",
    "from langgraph.checkpoint.memory import MemorySaver\n",
    "\n",
    "memory = MemorySaver()\n",
    "\n",
    "## Node definition\n",
    "def tool_calling_llm(state:State):\n",
    "    return {\"messages\":[llm_with_tool.invoke(state[\"messages\"])]}\n",
    "\n",
    "## Grpah\n",
    "builder=StateGraph(State)\n",
    "builder.add_node(\"tool_calling_llm\",tool_calling_llm)\n",
    "builder.add_node(\"tools\",ToolNode(tools))\n",
    "\n",
    "## Add Edges\n",
    "builder.add_edge(START, \"tool_calling_llm\")\n",
    "builder.add_conditional_edges(\n",
    "    \"tool_calling_llm\",\n",
    "    # If the latest message (result) from assistant is a tool call -> tools_condition routes to tools\n",
    "    # If the latest message (result) from assistant is a not a tool call -> tools_condition routes to END\n",
    "    tools_condition\n",
    ")\n",
    "builder.add_edge(\"tools\",\"tool_calling_llm\")\n",
    "\n",
    "## compile the graph\n",
    "graph=builder.compile(checkpointer=memory)\n",
    "\n",
    "from IPython.display import Image, display\n",
    "display(Image(graph.get_graph().draw_mermaid_png()))"
   ]
  },
  {
   "cell_type": "code",
   "execution_count": 89,
   "id": "a51d32de",
   "metadata": {},
   "outputs": [
    {
     "data": {
      "text/plain": [
       "{'messages': [HumanMessage(content='Hi my name is Krish', additional_kwargs={}, response_metadata={}, id='aa6d87f2-c583-4b2f-b6c9-689925c904d9'),\n",
       "  AIMessage(content='Nice to meet you, Krish! What brings you here today?', additional_kwargs={}, response_metadata={'token_usage': {'completion_tokens': 14, 'prompt_tokens': 2193, 'total_tokens': 2207, 'completion_time': 0.012401347, 'prompt_time': 0.382977877, 'queue_time': 0.27563792299999995, 'total_time': 0.395379224}, 'model_name': 'llama3-8b-8192', 'system_fingerprint': 'fp_2717d04279', 'finish_reason': 'stop', 'logprobs': None}, id='run--5ec2dfd1-3fa3-465c-aadf-ad0c0c3d755c-0', usage_metadata={'input_tokens': 2193, 'output_tokens': 14, 'total_tokens': 2207}),\n",
       "  HumanMessage(content='Hi my name is Shruti kumari', additional_kwargs={}, response_metadata={}, id='f0ba106a-13e5-4597-8130-97bcf2cd9fb1'),\n",
       "  AIMessage(content='Nice to meet you, Shruti Kumari!', additional_kwargs={}, response_metadata={'token_usage': {'completion_tokens': 11, 'prompt_tokens': 2224, 'total_tokens': 2235, 'completion_time': 0.010213239, 'prompt_time': 0.245813794, 'queue_time': 0.27777821599999997, 'total_time': 0.256027033}, 'model_name': 'llama3-8b-8192', 'system_fingerprint': 'fp_6d1c2b0784', 'finish_reason': 'stop', 'logprobs': None}, id='run--e655af40-6f84-4f16-9b59-4276e18536d6-0', usage_metadata={'input_tokens': 2224, 'output_tokens': 11, 'total_tokens': 2235}),\n",
       "  HumanMessage(content='Hi my name is Shruti kumari', additional_kwargs={}, response_metadata={}, id='8f68404b-8e5b-40c9-89ec-bdd80fb67a34'),\n",
       "  AIMessage(content=\"I think we've already met, Shruti Kumari!\", additional_kwargs={}, response_metadata={'token_usage': {'completion_tokens': 13, 'prompt_tokens': 2252, 'total_tokens': 2265, 'completion_time': 0.012057846, 'prompt_time': 0.25102932, 'queue_time': 0.2752858, 'total_time': 0.263087166}, 'model_name': 'llama3-8b-8192', 'system_fingerprint': 'fp_2717d04279', 'finish_reason': 'stop', 'logprobs': None}, id='run--cf38a621-4ff5-43e1-898b-749d1b97f30e-0', usage_metadata={'input_tokens': 2252, 'output_tokens': 13, 'total_tokens': 2265}),\n",
       "  HumanMessage(content='Hi my name is Shruti kumari', additional_kwargs={}, response_metadata={}, id='798cddb4-50d4-4b6c-b304-bff9c40f5a0d'),\n",
       "  AIMessage(content='Shruti Kumari, nice to meet you again!', additional_kwargs={}, response_metadata={'token_usage': {'completion_tokens': 13, 'prompt_tokens': 2282, 'total_tokens': 2295, 'completion_time': 0.012186193, 'prompt_time': 0.252565829, 'queue_time': 0.273731701, 'total_time': 0.264752022}, 'model_name': 'llama3-8b-8192', 'system_fingerprint': 'fp_8b7c3a83f7', 'finish_reason': 'stop', 'logprobs': None}, id='run--49510aa1-4637-4cfe-9f99-6972c1ac9aac-0', usage_metadata={'input_tokens': 2282, 'output_tokens': 13, 'total_tokens': 2295})]}"
      ]
     },
     "execution_count": 89,
     "metadata": {},
     "output_type": "execute_result"
    }
   ],
   "source": [
    "config={\"configurable\":{\"thread_id\":\"1\"}}\n",
    "\n",
    "response=graph.invoke({\"messages\":\"Hi my name is Shruti kumari\"},config=config)\n",
    "\n",
    "response\n"
   ]
  },
  {
   "cell_type": "code",
   "execution_count": 90,
   "id": "904463e8",
   "metadata": {},
   "outputs": [
    {
     "data": {
      "text/plain": [
       "'Shruti Kumari, nice to meet you again!'"
      ]
     },
     "execution_count": 90,
     "metadata": {},
     "output_type": "execute_result"
    }
   ],
   "source": [
    "response['messages'][-1].content"
   ]
  },
  {
   "cell_type": "code",
   "execution_count": 91,
   "id": "363227cb",
   "metadata": {},
   "outputs": [
    {
     "name": "stdout",
     "output_type": "stream",
     "text": [
      "I think I can recall that, Shruti Kumari!\n"
     ]
    }
   ],
   "source": [
    "response=graph.invoke({\"messages\":\"Hey what is my name\"},config=config)\n",
    "\n",
    "print(response['messages'][-1].content)"
   ]
  },
  {
   "cell_type": "code",
   "execution_count": 92,
   "id": "d53567d2",
   "metadata": {},
   "outputs": [
    {
     "name": "stdout",
     "output_type": "stream",
     "text": [
      "You're Shruti Kumari!\n"
     ]
    }
   ],
   "source": [
    "response=graph.invoke({\"messages\":\"Hey do you remember mmy name\"},config=config)\n",
    "\n",
    "print(response['messages'][-1].content)"
   ]
  },
  {
   "cell_type": "markdown",
   "id": "ac7b3d4d",
   "metadata": {},
   "source": [
    "### Streaming"
   ]
  },
  {
   "cell_type": "code",
   "execution_count": 96,
   "id": "29fe2fbf",
   "metadata": {},
   "outputs": [],
   "source": [
    "from langgraph.checkpoint.memory import MemorySaver\n",
    "memory=MemorySaver()"
   ]
  },
  {
   "cell_type": "code",
   "execution_count": 97,
   "id": "5bca6fc4",
   "metadata": {},
   "outputs": [],
   "source": [
    "def superbot(state:State):\n",
    "    return {\"messages\":[llm.invoke(state['messages'])]}"
   ]
  },
  {
   "cell_type": "code",
   "execution_count": 98,
   "id": "433922c6",
   "metadata": {},
   "outputs": [
    {
     "data": {
      "image/png": "[encoded data removed]",
      "text/plain": [
       "<IPython.core.display.Image object>"
      ]
     },
     "metadata": {},
     "output_type": "display_data"
    }
   ],
   "source": [
    "graph=StateGraph(State)\n",
    "\n",
    "## node\n",
    "graph.add_node(\"SuperBot\",superbot)\n",
    "## Edges\n",
    "\n",
    "graph.add_edge(START,\"SuperBot\")\n",
    "graph.add_edge(\"SuperBot\",END)\n",
    "\n",
    "\n",
    "graph_builder=graph.compile(checkpointer=memory)\n",
    "\n",
    "\n",
    "## Display\n",
    "from IPython.display import Image, display\n",
    "display(Image(graph_builder.get_graph().draw_mermaid_png()))"
   ]
  },
  {
   "cell_type": "code",
   "execution_count": 100,
   "id": "486b24f1",
   "metadata": {},
   "outputs": [
    {
     "data": {
      "text/plain": [
       "{'messages': [HumanMessage(content='Hi,My name is shruti And I like Music', additional_kwargs={}, response_metadata={}, id='1dce1877-8524-44c4-9d68-1e9e9a66112c'),\n",
       "  AIMessage(content='Hi Shruti! Nice to meet you! Music is an amazing hobby, what kind of music do you enjoy listening to or playing? Are you a fan of any particular genre or artist?', additional_kwargs={}, response_metadata={'token_usage': {'completion_tokens': 39, 'prompt_tokens': 21, 'total_tokens': 60, 'completion_time': 0.034673642, 'prompt_time': 0.004840601, 'queue_time': 0.271587271, 'total_time': 0.039514243}, 'model_name': 'llama3-8b-8192', 'system_fingerprint': 'fp_8b7c3a83f7', 'finish_reason': 'stop', 'logprobs': None}, id='run--fe6eeafb-a2a5-4a90-b4ec-546f8b17d3d1-0', usage_metadata={'input_tokens': 21, 'output_tokens': 39, 'total_tokens': 60})]}"
      ]
     },
     "execution_count": 100,
     "metadata": {},
     "output_type": "execute_result"
    }
   ],
   "source": [
    "## Invocation\n",
    "\n",
    "config = {\"configurable\": {\"thread_id\": \"2\"}}\n",
    "\n",
    "graph_builder.invoke({'messages':\"Hi,My name is shruti And I like Music\"},config)"
   ]
  },
  {
   "cell_type": "markdown",
   "id": "2b14a6a0",
   "metadata": {},
   "source": [
    "### Streaming \n",
    "Methods: .stream() and astream()\n",
    "\n",
    "- These methods are sync and async methods for streaming back results.\n",
    "\n",
    "Additional parameters in streaming modes for graph state\n",
    "\n",
    "- **values** : This streams the full state of the graph after each node is called.\n",
    "- **updates** : This streams updates to the state of the graph after each node is called."
   ]
  },
  {
   "cell_type": "code",
   "execution_count": 101,
   "id": "32d6ac91",
   "metadata": {},
   "outputs": [
    {
     "name": "stdout",
     "output_type": "stream",
     "text": [
      "{'SuperBot': {'messages': [AIMessage(content=\"Nice to meet you, Shruti! That's awesome that you like cricket! Which team do you support? Are you a fan of the Indian national team or do you have a favorite franchise in the Indian Premier League (IPL)?\", additional_kwargs={}, response_metadata={'token_usage': {'completion_tokens': 48, 'prompt_tokens': 21, 'total_tokens': 69, 'completion_time': 0.192610178, 'prompt_time': 0.026063931, 'queue_time': 0.354610931, 'total_time': 0.218674109}, 'model_name': 'llama3-8b-8192', 'system_fingerprint': 'fp_8dc6ecaf8e', 'finish_reason': 'stop', 'logprobs': None}, id='run--bb457e5b-dbeb-45ba-bd4e-00c7a6d23c34-0', usage_metadata={'input_tokens': 21, 'output_tokens': 48, 'total_tokens': 69})]}}\n"
     ]
    }
   ],
   "source": [
    "# Create a thread\n",
    "config = {\"configurable\": {\"thread_id\": \"3\"}}\n",
    "\n",
    "for chunk in graph_builder.stream({'messages':\"Hi,My name is shruti And I like Cricket\"},config,stream_mode=\"updates\"):\n",
    "    print(chunk)"
   ]
  },
  {
   "cell_type": "code",
   "execution_count": 102,
   "id": "2fefc7c6",
   "metadata": {},
   "outputs": [
    {
     "name": "stdout",
     "output_type": "stream",
     "text": [
      "{'messages': [HumanMessage(content='Hi,My name is shruti And I like Cricket', additional_kwargs={}, response_metadata={}, id='d53eddd4-dc05-4983-b921-37ec6d35b95a'), AIMessage(content=\"Nice to meet you, Shruti! That's awesome that you like cricket! Which team do you support? Are you a fan of the Indian national team or do you have a favorite franchise in the Indian Premier League (IPL)?\", additional_kwargs={}, response_metadata={'token_usage': {'completion_tokens': 48, 'prompt_tokens': 21, 'total_tokens': 69, 'completion_time': 0.192610178, 'prompt_time': 0.026063931, 'queue_time': 0.354610931, 'total_time': 0.218674109}, 'model_name': 'llama3-8b-8192', 'system_fingerprint': 'fp_8dc6ecaf8e', 'finish_reason': 'stop', 'logprobs': None}, id='run--bb457e5b-dbeb-45ba-bd4e-00c7a6d23c34-0', usage_metadata={'input_tokens': 21, 'output_tokens': 48, 'total_tokens': 69}), HumanMessage(content='Hi,My name is shruti And I like Football', additional_kwargs={}, response_metadata={}, id='bbd17019-3b79-49fb-8cf1-2fb243456251')]}\n",
      "{'messages': [HumanMessage(content='Hi,My name is shruti And I like Cricket', additional_kwargs={}, response_metadata={}, id='d53eddd4-dc05-4983-b921-37ec6d35b95a'), AIMessage(content=\"Nice to meet you, Shruti! That's awesome that you like cricket! Which team do you support? Are you a fan of the Indian national team or do you have a favorite franchise in the Indian Premier League (IPL)?\", additional_kwargs={}, response_metadata={'token_usage': {'completion_tokens': 48, 'prompt_tokens': 21, 'total_tokens': 69, 'completion_time': 0.192610178, 'prompt_time': 0.026063931, 'queue_time': 0.354610931, 'total_time': 0.218674109}, 'model_name': 'llama3-8b-8192', 'system_fingerprint': 'fp_8dc6ecaf8e', 'finish_reason': 'stop', 'logprobs': None}, id='run--bb457e5b-dbeb-45ba-bd4e-00c7a6d23c34-0', usage_metadata={'input_tokens': 21, 'output_tokens': 48, 'total_tokens': 69}), HumanMessage(content='Hi,My name is shruti And I like Football', additional_kwargs={}, response_metadata={}, id='bbd17019-3b79-49fb-8cf1-2fb243456251'), AIMessage(content=\"Nice to meet you, Shruti! That's awesome that you like football! Which team do you support? Are you a fan of the Indian national team or do you have a favorite team in the Indian Super League (ISL) or the Premier League?\", additional_kwargs={}, response_metadata={'token_usage': {'completion_tokens': 53, 'prompt_tokens': 89, 'total_tokens': 142, 'completion_time': 0.148433866, 'prompt_time': 0.017342667, 'queue_time': 0.265650634, 'total_time': 0.165776533}, 'model_name': 'llama3-8b-8192', 'system_fingerprint': 'fp_8dc6ecaf8e', 'finish_reason': 'stop', 'logprobs': None}, id='run--e118aa49-7977-410a-b2bc-8a38c180ce28-0', usage_metadata={'input_tokens': 89, 'output_tokens': 53, 'total_tokens': 142})]}\n"
     ]
    }
   ],
   "source": [
    "for chunk in graph_builder.stream({'messages':\"Hi,My name is shruti And I like Football\"},config,stream_mode=\"values\"):\n",
    "    print(chunk)"
   ]
  },
  {
   "cell_type": "code",
   "execution_count": 103,
   "id": "2306108c",
   "metadata": {},
   "outputs": [
    {
     "name": "stdout",
     "output_type": "stream",
     "text": [
      "{'SuperBot': {'messages': [AIMessage(content=\"Hi Shruti! Nice to meet you! It's great to hear that you like badminton! What's your favorite thing about playing badminton? Is it the speed, the strategy, or something else?\", additional_kwargs={}, response_metadata={'token_usage': {'completion_tokens': 45, 'prompt_tokens': 23, 'total_tokens': 68, 'completion_time': 0.208169663, 'prompt_time': 0.047771005, 'queue_time': 0.337166986, 'total_time': 0.255940668}, 'model_name': 'llama3-8b-8192', 'system_fingerprint': 'fp_8dc6ecaf8e', 'finish_reason': 'stop', 'logprobs': None}, id='run--b68fc358-052d-496b-b9c4-564462575b7a-0', usage_metadata={'input_tokens': 23, 'output_tokens': 45, 'total_tokens': 68})]}}\n"
     ]
    }
   ],
   "source": [
    "# Create a thread\n",
    "config = {\"configurable\": {\"thread_id\": \"4\"}}\n",
    "\n",
    "for chunk in graph_builder.stream({'messages':\"Hi,My name is shruti And I like Badminton\"},config,stream_mode=\"updates\"):\n",
    "    print(chunk)"
   ]
  },
  {
   "cell_type": "code",
   "execution_count": 104,
   "id": "321c88bc",
   "metadata": {},
   "outputs": [
    {
     "name": "stdout",
     "output_type": "stream",
     "text": [
      "{'messages': [HumanMessage(content='Hi,My name is shruti And I like Badminton', additional_kwargs={}, response_metadata={}, id='29b58ab9-edd9-46ce-aa52-9929b164f162'), AIMessage(content=\"Hi Shruti! Nice to meet you! It's great to hear that you like badminton! What's your favorite thing about playing badminton? Is it the speed, the strategy, or something else?\", additional_kwargs={}, response_metadata={'token_usage': {'completion_tokens': 45, 'prompt_tokens': 23, 'total_tokens': 68, 'completion_time': 0.208169663, 'prompt_time': 0.047771005, 'queue_time': 0.337166986, 'total_time': 0.255940668}, 'model_name': 'llama3-8b-8192', 'system_fingerprint': 'fp_8dc6ecaf8e', 'finish_reason': 'stop', 'logprobs': None}, id='run--b68fc358-052d-496b-b9c4-564462575b7a-0', usage_metadata={'input_tokens': 23, 'output_tokens': 45, 'total_tokens': 68}), HumanMessage(content='I also like Yoga', additional_kwargs={}, response_metadata={}, id='99aead9c-0434-47da-8674-68a9bd51e125')]}\n",
      "{'messages': [HumanMessage(content='Hi,My name is shruti And I like Badminton', additional_kwargs={}, response_metadata={}, id='29b58ab9-edd9-46ce-aa52-9929b164f162'), AIMessage(content=\"Hi Shruti! Nice to meet you! It's great to hear that you like badminton! What's your favorite thing about playing badminton? Is it the speed, the strategy, or something else?\", additional_kwargs={}, response_metadata={'token_usage': {'completion_tokens': 45, 'prompt_tokens': 23, 'total_tokens': 68, 'completion_time': 0.208169663, 'prompt_time': 0.047771005, 'queue_time': 0.337166986, 'total_time': 0.255940668}, 'model_name': 'llama3-8b-8192', 'system_fingerprint': 'fp_8dc6ecaf8e', 'finish_reason': 'stop', 'logprobs': None}, id='run--b68fc358-052d-496b-b9c4-564462575b7a-0', usage_metadata={'input_tokens': 23, 'output_tokens': 45, 'total_tokens': 68}), HumanMessage(content='I also like Yoga', additional_kwargs={}, response_metadata={}, id='99aead9c-0434-47da-8674-68a9bd51e125'), AIMessage(content=\"That's great, Shruti! Yoga and badminton are two very different activities, but they can both be great ways to stay active and healthy. Yoga can help improve your flexibility, balance, and strength, while badminton can be a fun way to get some cardio exercise and improve your hand-eye coordination.\\n\\nDo you practice yoga regularly, or is it something you like to do occasionally? And do you find that doing yoga helps you with your badminton game, or vice versa?\", additional_kwargs={}, response_metadata={'token_usage': {'completion_tokens': 101, 'prompt_tokens': 81, 'total_tokens': 182, 'completion_time': 0.091331612, 'prompt_time': 0.009943037, 'queue_time': 0.270518711, 'total_time': 0.101274649}, 'model_name': 'llama3-8b-8192', 'system_fingerprint': 'fp_2717d04279', 'finish_reason': 'stop', 'logprobs': None}, id='run--dc297628-8242-453f-bb37-57308ae2dae1-0', usage_metadata={'input_tokens': 81, 'output_tokens': 101, 'total_tokens': 182})]}\n"
     ]
    }
   ],
   "source": [
    "for chunk in graph_builder.stream({'messages':\"I also like Yoga\"},config,stream_mode=\"values\"):\n",
    "    print(chunk)"
   ]
  },
  {
   "cell_type": "code",
   "execution_count": 105,
   "id": "57e296a1",
   "metadata": {},
   "outputs": [
    {
     "name": "stdout",
     "output_type": "stream",
     "text": [
      "{'event': 'on_chain_start', 'data': {'input': {'messages': ['Hi My name is shruti kumari and I like to play Badminton']}}, 'name': 'LangGraph', 'tags': [], 'run_id': '068c993b-88b6-49a8-ac47-78e6e72ec6d3', 'metadata': {'thread_id': '5'}, 'parent_ids': []}\n",
      "{'event': 'on_chain_start', 'data': {'input': {'messages': [HumanMessage(content='Hi My name is shruti kumari and I like to play Badminton', additional_kwargs={}, response_metadata={}, id='cf9cbe9f-46ee-4d23-aa22-99402cde8854')]}}, 'name': 'SuperBot', 'tags': ['graph:step:1'], 'run_id': 'c2541e9b-73f0-4bfc-81b1-35ea1354601e', 'metadata': {'thread_id': '5', 'langgraph_step': 1, 'langgraph_node': 'SuperBot', 'langgraph_triggers': ('branch:to:SuperBot',), 'langgraph_path': ('__pregel_pull', 'SuperBot'), 'langgraph_checkpoint_ns': 'SuperBot:fdc70507-5736-3f0b-730c-2492fda0c7e5'}, 'parent_ids': ['068c993b-88b6-49a8-ac47-78e6e72ec6d3']}\n",
      "{'event': 'on_chat_model_start', 'data': {'input': {'messages': [[HumanMessage(content='Hi My name is shruti kumari and I like to play Badminton', additional_kwargs={}, response_metadata={}, id='cf9cbe9f-46ee-4d23-aa22-99402cde8854')]]}}, 'name': 'ChatGroq', 'tags': ['seq:step:1'], 'run_id': '724978ba-0918-48b1-acb0-7c6c19161f58', 'metadata': {'thread_id': '5', 'langgraph_step': 1, 'langgraph_node': 'SuperBot', 'langgraph_triggers': ('branch:to:SuperBot',), 'langgraph_path': ('__pregel_pull', 'SuperBot'), 'langgraph_checkpoint_ns': 'SuperBot:fdc70507-5736-3f0b-730c-2492fda0c7e5', 'checkpoint_ns': 'SuperBot:fdc70507-5736-3f0b-730c-2492fda0c7e5', 'ls_provider': 'groq', 'ls_model_name': 'llama3-8b-8192', 'ls_model_type': 'chat', 'ls_temperature': 0.7}, 'parent_ids': ['068c993b-88b6-49a8-ac47-78e6e72ec6d3', 'c2541e9b-73f0-4bfc-81b1-35ea1354601e']}\n",
      "{'event': 'on_chat_model_stream', 'data': {'chunk': AIMessageChunk(content='', additional_kwargs={}, response_metadata={}, id='run--724978ba-0918-48b1-acb0-7c6c19161f58')}, 'run_id': '724978ba-0918-48b1-acb0-7c6c19161f58', 'name': 'ChatGroq', 'tags': ['seq:step:1'], 'metadata': {'thread_id': '5', 'langgraph_step': 1, 'langgraph_node': 'SuperBot', 'langgraph_triggers': ('branch:to:SuperBot',), 'langgraph_path': ('__pregel_pull', 'SuperBot'), 'langgraph_checkpoint_ns': 'SuperBot:fdc70507-5736-3f0b-730c-2492fda0c7e5', 'checkpoint_ns': 'SuperBot:fdc70507-5736-3f0b-730c-2492fda0c7e5', 'ls_provider': 'groq', 'ls_model_name': 'llama3-8b-8192', 'ls_model_type': 'chat', 'ls_temperature': 0.7}, 'parent_ids': ['068c993b-88b6-49a8-ac47-78e6e72ec6d3', 'c2541e9b-73f0-4bfc-81b1-35ea1354601e']}\n",
      "{'event': 'on_chat_model_stream', 'data': {'chunk': AIMessageChunk(content='Hi', additional_kwargs={}, response_metadata={}, id='run--724978ba-0918-48b1-acb0-7c6c19161f58')}, 'run_id': '724978ba-0918-48b1-acb0-7c6c19161f58', 'name': 'ChatGroq', 'tags': ['seq:step:1'], 'metadata': {'thread_id': '5', 'langgraph_step': 1, 'langgraph_node': 'SuperBot', 'langgraph_triggers': ('branch:to:SuperBot',), 'langgraph_path': ('__pregel_pull', 'SuperBot'), 'langgraph_checkpoint_ns': 'SuperBot:fdc70507-5736-3f0b-730c-2492fda0c7e5', 'checkpoint_ns': 'SuperBot:fdc70507-5736-3f0b-730c-2492fda0c7e5', 'ls_provider': 'groq', 'ls_model_name': 'llama3-8b-8192', 'ls_model_type': 'chat', 'ls_temperature': 0.7}, 'parent_ids': ['068c993b-88b6-49a8-ac47-78e6e72ec6d3', 'c2541e9b-73f0-4bfc-81b1-35ea1354601e']}\n",
      "{'event': 'on_chat_model_stream', 'data': {'chunk': AIMessageChunk(content=' Shr', additional_kwargs={}, response_metadata={}, id='run--724978ba-0918-48b1-acb0-7c6c19161f58')}, 'run_id': '724978ba-0918-48b1-acb0-7c6c19161f58', 'name': 'ChatGroq', 'tags': ['seq:step:1'], 'metadata': {'thread_id': '5', 'langgraph_step': 1, 'langgraph_node': 'SuperBot', 'langgraph_triggers': ('branch:to:SuperBot',), 'langgraph_path': ('__pregel_pull', 'SuperBot'), 'langgraph_checkpoint_ns': 'SuperBot:fdc70507-5736-3f0b-730c-2492fda0c7e5', 'checkpoint_ns': 'SuperBot:fdc70507-5736-3f0b-730c-2492fda0c7e5', 'ls_provider': 'groq', 'ls_model_name': 'llama3-8b-8192', 'ls_model_type': 'chat', 'ls_temperature': 0.7}, 'parent_ids': ['068c993b-88b6-49a8-ac47-78e6e72ec6d3', 'c2541e9b-73f0-4bfc-81b1-35ea1354601e']}\n",
      "{'event': 'on_chat_model_stream', 'data': {'chunk': AIMessageChunk(content='uti', additional_kwargs={}, response_metadata={}, id='run--724978ba-0918-48b1-acb0-7c6c19161f58')}, 'run_id': '724978ba-0918-48b1-acb0-7c6c19161f58', 'name': 'ChatGroq', 'tags': ['seq:step:1'], 'metadata': {'thread_id': '5', 'langgraph_step': 1, 'langgraph_node': 'SuperBot', 'langgraph_triggers': ('branch:to:SuperBot',), 'langgraph_path': ('__pregel_pull', 'SuperBot'), 'langgraph_checkpoint_ns': 'SuperBot:fdc70507-5736-3f0b-730c-2492fda0c7e5', 'checkpoint_ns': 'SuperBot:fdc70507-5736-3f0b-730c-2492fda0c7e5', 'ls_provider': 'groq', 'ls_model_name': 'llama3-8b-8192', 'ls_model_type': 'chat', 'ls_temperature': 0.7}, 'parent_ids': ['068c993b-88b6-49a8-ac47-78e6e72ec6d3', 'c2541e9b-73f0-4bfc-81b1-35ea1354601e']}\n",
      "{'event': 'on_chat_model_stream', 'data': {'chunk': AIMessageChunk(content=' Kum', additional_kwargs={}, response_metadata={}, id='run--724978ba-0918-48b1-acb0-7c6c19161f58')}, 'run_id': '724978ba-0918-48b1-acb0-7c6c19161f58', 'name': 'ChatGroq', 'tags': ['seq:step:1'], 'metadata': {'thread_id': '5', 'langgraph_step': 1, 'langgraph_node': 'SuperBot', 'langgraph_triggers': ('branch:to:SuperBot',), 'langgraph_path': ('__pregel_pull', 'SuperBot'), 'langgraph_checkpoint_ns': 'SuperBot:fdc70507-5736-3f0b-730c-2492fda0c7e5', 'checkpoint_ns': 'SuperBot:fdc70507-5736-3f0b-730c-2492fda0c7e5', 'ls_provider': 'groq', 'ls_model_name': 'llama3-8b-8192', 'ls_model_type': 'chat', 'ls_temperature': 0.7}, 'parent_ids': ['068c993b-88b6-49a8-ac47-78e6e72ec6d3', 'c2541e9b-73f0-4bfc-81b1-35ea1354601e']}\n",
      "{'event': 'on_chat_model_stream', 'data': {'chunk': AIMessageChunk(content='ari', additional_kwargs={}, response_metadata={}, id='run--724978ba-0918-48b1-acb0-7c6c19161f58')}, 'run_id': '724978ba-0918-48b1-acb0-7c6c19161f58', 'name': 'ChatGroq', 'tags': ['seq:step:1'], 'metadata': {'thread_id': '5', 'langgraph_step': 1, 'langgraph_node': 'SuperBot', 'langgraph_triggers': ('branch:to:SuperBot',), 'langgraph_path': ('__pregel_pull', 'SuperBot'), 'langgraph_checkpoint_ns': 'SuperBot:fdc70507-5736-3f0b-730c-2492fda0c7e5', 'checkpoint_ns': 'SuperBot:fdc70507-5736-3f0b-730c-2492fda0c7e5', 'ls_provider': 'groq', 'ls_model_name': 'llama3-8b-8192', 'ls_model_type': 'chat', 'ls_temperature': 0.7}, 'parent_ids': ['068c993b-88b6-49a8-ac47-78e6e72ec6d3', 'c2541e9b-73f0-4bfc-81b1-35ea1354601e']}\n",
      "{'event': 'on_chat_model_stream', 'data': {'chunk': AIMessageChunk(content='!', additional_kwargs={}, response_metadata={}, id='run--724978ba-0918-48b1-acb0-7c6c19161f58')}, 'run_id': '724978ba-0918-48b1-acb0-7c6c19161f58', 'name': 'ChatGroq', 'tags': ['seq:step:1'], 'metadata': {'thread_id': '5', 'langgraph_step': 1, 'langgraph_node': 'SuperBot', 'langgraph_triggers': ('branch:to:SuperBot',), 'langgraph_path': ('__pregel_pull', 'SuperBot'), 'langgraph_checkpoint_ns': 'SuperBot:fdc70507-5736-3f0b-730c-2492fda0c7e5', 'checkpoint_ns': 'SuperBot:fdc70507-5736-3f0b-730c-2492fda0c7e5', 'ls_provider': 'groq', 'ls_model_name': 'llama3-8b-8192', 'ls_model_type': 'chat', 'ls_temperature': 0.7}, 'parent_ids': ['068c993b-88b6-49a8-ac47-78e6e72ec6d3', 'c2541e9b-73f0-4bfc-81b1-35ea1354601e']}\n",
      "{'event': 'on_chat_model_stream', 'data': {'chunk': AIMessageChunk(content=' Nice', additional_kwargs={}, response_metadata={}, id='run--724978ba-0918-48b1-acb0-7c6c19161f58')}, 'run_id': '724978ba-0918-48b1-acb0-7c6c19161f58', 'name': 'ChatGroq', 'tags': ['seq:step:1'], 'metadata': {'thread_id': '5', 'langgraph_step': 1, 'langgraph_node': 'SuperBot', 'langgraph_triggers': ('branch:to:SuperBot',), 'langgraph_path': ('__pregel_pull', 'SuperBot'), 'langgraph_checkpoint_ns': 'SuperBot:fdc70507-5736-3f0b-730c-2492fda0c7e5', 'checkpoint_ns': 'SuperBot:fdc70507-5736-3f0b-730c-2492fda0c7e5', 'ls_provider': 'groq', 'ls_model_name': 'llama3-8b-8192', 'ls_model_type': 'chat', 'ls_temperature': 0.7}, 'parent_ids': ['068c993b-88b6-49a8-ac47-78e6e72ec6d3', 'c2541e9b-73f0-4bfc-81b1-35ea1354601e']}\n",
      "{'event': 'on_chat_model_stream', 'data': {'chunk': AIMessageChunk(content=' to', additional_kwargs={}, response_metadata={}, id='run--724978ba-0918-48b1-acb0-7c6c19161f58')}, 'run_id': '724978ba-0918-48b1-acb0-7c6c19161f58', 'name': 'ChatGroq', 'tags': ['seq:step:1'], 'metadata': {'thread_id': '5', 'langgraph_step': 1, 'langgraph_node': 'SuperBot', 'langgraph_triggers': ('branch:to:SuperBot',), 'langgraph_path': ('__pregel_pull', 'SuperBot'), 'langgraph_checkpoint_ns': 'SuperBot:fdc70507-5736-3f0b-730c-2492fda0c7e5', 'checkpoint_ns': 'SuperBot:fdc70507-5736-3f0b-730c-2492fda0c7e5', 'ls_provider': 'groq', 'ls_model_name': 'llama3-8b-8192', 'ls_model_type': 'chat', 'ls_temperature': 0.7}, 'parent_ids': ['068c993b-88b6-49a8-ac47-78e6e72ec6d3', 'c2541e9b-73f0-4bfc-81b1-35ea1354601e']}\n",
      "{'event': 'on_chat_model_stream', 'data': {'chunk': AIMessageChunk(content=' meet', additional_kwargs={}, response_metadata={}, id='run--724978ba-0918-48b1-acb0-7c6c19161f58')}, 'run_id': '724978ba-0918-48b1-acb0-7c6c19161f58', 'name': 'ChatGroq', 'tags': ['seq:step:1'], 'metadata': {'thread_id': '5', 'langgraph_step': 1, 'langgraph_node': 'SuperBot', 'langgraph_triggers': ('branch:to:SuperBot',), 'langgraph_path': ('__pregel_pull', 'SuperBot'), 'langgraph_checkpoint_ns': 'SuperBot:fdc70507-5736-3f0b-730c-2492fda0c7e5', 'checkpoint_ns': 'SuperBot:fdc70507-5736-3f0b-730c-2492fda0c7e5', 'ls_provider': 'groq', 'ls_model_name': 'llama3-8b-8192', 'ls_model_type': 'chat', 'ls_temperature': 0.7}, 'parent_ids': ['068c993b-88b6-49a8-ac47-78e6e72ec6d3', 'c2541e9b-73f0-4bfc-81b1-35ea1354601e']}\n",
      "{'event': 'on_chat_model_stream', 'data': {'chunk': AIMessageChunk(content=' you', additional_kwargs={}, response_metadata={}, id='run--724978ba-0918-48b1-acb0-7c6c19161f58')}, 'run_id': '724978ba-0918-48b1-acb0-7c6c19161f58', 'name': 'ChatGroq', 'tags': ['seq:step:1'], 'metadata': {'thread_id': '5', 'langgraph_step': 1, 'langgraph_node': 'SuperBot', 'langgraph_triggers': ('branch:to:SuperBot',), 'langgraph_path': ('__pregel_pull', 'SuperBot'), 'langgraph_checkpoint_ns': 'SuperBot:fdc70507-5736-3f0b-730c-2492fda0c7e5', 'checkpoint_ns': 'SuperBot:fdc70507-5736-3f0b-730c-2492fda0c7e5', 'ls_provider': 'groq', 'ls_model_name': 'llama3-8b-8192', 'ls_model_type': 'chat', 'ls_temperature': 0.7}, 'parent_ids': ['068c993b-88b6-49a8-ac47-78e6e72ec6d3', 'c2541e9b-73f0-4bfc-81b1-35ea1354601e']}\n",
      "{'event': 'on_chat_model_stream', 'data': {'chunk': AIMessageChunk(content='!', additional_kwargs={}, response_metadata={}, id='run--724978ba-0918-48b1-acb0-7c6c19161f58')}, 'run_id': '724978ba-0918-48b1-acb0-7c6c19161f58', 'name': 'ChatGroq', 'tags': ['seq:step:1'], 'metadata': {'thread_id': '5', 'langgraph_step': 1, 'langgraph_node': 'SuperBot', 'langgraph_triggers': ('branch:to:SuperBot',), 'langgraph_path': ('__pregel_pull', 'SuperBot'), 'langgraph_checkpoint_ns': 'SuperBot:fdc70507-5736-3f0b-730c-2492fda0c7e5', 'checkpoint_ns': 'SuperBot:fdc70507-5736-3f0b-730c-2492fda0c7e5', 'ls_provider': 'groq', 'ls_model_name': 'llama3-8b-8192', 'ls_model_type': 'chat', 'ls_temperature': 0.7}, 'parent_ids': ['068c993b-88b6-49a8-ac47-78e6e72ec6d3', 'c2541e9b-73f0-4bfc-81b1-35ea1354601e']}\n",
      "{'event': 'on_chat_model_stream', 'data': {'chunk': AIMessageChunk(content=' It', additional_kwargs={}, response_metadata={}, id='run--724978ba-0918-48b1-acb0-7c6c19161f58')}, 'run_id': '724978ba-0918-48b1-acb0-7c6c19161f58', 'name': 'ChatGroq', 'tags': ['seq:step:1'], 'metadata': {'thread_id': '5', 'langgraph_step': 1, 'langgraph_node': 'SuperBot', 'langgraph_triggers': ('branch:to:SuperBot',), 'langgraph_path': ('__pregel_pull', 'SuperBot'), 'langgraph_checkpoint_ns': 'SuperBot:fdc70507-5736-3f0b-730c-2492fda0c7e5', 'checkpoint_ns': 'SuperBot:fdc70507-5736-3f0b-730c-2492fda0c7e5', 'ls_provider': 'groq', 'ls_model_name': 'llama3-8b-8192', 'ls_model_type': 'chat', 'ls_temperature': 0.7}, 'parent_ids': ['068c993b-88b6-49a8-ac47-78e6e72ec6d3', 'c2541e9b-73f0-4bfc-81b1-35ea1354601e']}\n",
      "{'event': 'on_chat_model_stream', 'data': {'chunk': AIMessageChunk(content=\"'s\", additional_kwargs={}, response_metadata={}, id='run--724978ba-0918-48b1-acb0-7c6c19161f58')}, 'run_id': '724978ba-0918-48b1-acb0-7c6c19161f58', 'name': 'ChatGroq', 'tags': ['seq:step:1'], 'metadata': {'thread_id': '5', 'langgraph_step': 1, 'langgraph_node': 'SuperBot', 'langgraph_triggers': ('branch:to:SuperBot',), 'langgraph_path': ('__pregel_pull', 'SuperBot'), 'langgraph_checkpoint_ns': 'SuperBot:fdc70507-5736-3f0b-730c-2492fda0c7e5', 'checkpoint_ns': 'SuperBot:fdc70507-5736-3f0b-730c-2492fda0c7e5', 'ls_provider': 'groq', 'ls_model_name': 'llama3-8b-8192', 'ls_model_type': 'chat', 'ls_temperature': 0.7}, 'parent_ids': ['068c993b-88b6-49a8-ac47-78e6e72ec6d3', 'c2541e9b-73f0-4bfc-81b1-35ea1354601e']}\n",
      "{'event': 'on_chat_model_stream', 'data': {'chunk': AIMessageChunk(content=' great', additional_kwargs={}, response_metadata={}, id='run--724978ba-0918-48b1-acb0-7c6c19161f58')}, 'run_id': '724978ba-0918-48b1-acb0-7c6c19161f58', 'name': 'ChatGroq', 'tags': ['seq:step:1'], 'metadata': {'thread_id': '5', 'langgraph_step': 1, 'langgraph_node': 'SuperBot', 'langgraph_triggers': ('branch:to:SuperBot',), 'langgraph_path': ('__pregel_pull', 'SuperBot'), 'langgraph_checkpoint_ns': 'SuperBot:fdc70507-5736-3f0b-730c-2492fda0c7e5', 'checkpoint_ns': 'SuperBot:fdc70507-5736-3f0b-730c-2492fda0c7e5', 'ls_provider': 'groq', 'ls_model_name': 'llama3-8b-8192', 'ls_model_type': 'chat', 'ls_temperature': 0.7}, 'parent_ids': ['068c993b-88b6-49a8-ac47-78e6e72ec6d3', 'c2541e9b-73f0-4bfc-81b1-35ea1354601e']}\n",
      "{'event': 'on_chat_model_stream', 'data': {'chunk': AIMessageChunk(content=' to', additional_kwargs={}, response_metadata={}, id='run--724978ba-0918-48b1-acb0-7c6c19161f58')}, 'run_id': '724978ba-0918-48b1-acb0-7c6c19161f58', 'name': 'ChatGroq', 'tags': ['seq:step:1'], 'metadata': {'thread_id': '5', 'langgraph_step': 1, 'langgraph_node': 'SuperBot', 'langgraph_triggers': ('branch:to:SuperBot',), 'langgraph_path': ('__pregel_pull', 'SuperBot'), 'langgraph_checkpoint_ns': 'SuperBot:fdc70507-5736-3f0b-730c-2492fda0c7e5', 'checkpoint_ns': 'SuperBot:fdc70507-5736-3f0b-730c-2492fda0c7e5', 'ls_provider': 'groq', 'ls_model_name': 'llama3-8b-8192', 'ls_model_type': 'chat', 'ls_temperature': 0.7}, 'parent_ids': ['068c993b-88b6-49a8-ac47-78e6e72ec6d3', 'c2541e9b-73f0-4bfc-81b1-35ea1354601e']}\n",
      "{'event': 'on_chat_model_stream', 'data': {'chunk': AIMessageChunk(content=' hear', additional_kwargs={}, response_metadata={}, id='run--724978ba-0918-48b1-acb0-7c6c19161f58')}, 'run_id': '724978ba-0918-48b1-acb0-7c6c19161f58', 'name': 'ChatGroq', 'tags': ['seq:step:1'], 'metadata': {'thread_id': '5', 'langgraph_step': 1, 'langgraph_node': 'SuperBot', 'langgraph_triggers': ('branch:to:SuperBot',), 'langgraph_path': ('__pregel_pull', 'SuperBot'), 'langgraph_checkpoint_ns': 'SuperBot:fdc70507-5736-3f0b-730c-2492fda0c7e5', 'checkpoint_ns': 'SuperBot:fdc70507-5736-3f0b-730c-2492fda0c7e5', 'ls_provider': 'groq', 'ls_model_name': 'llama3-8b-8192', 'ls_model_type': 'chat', 'ls_temperature': 0.7}, 'parent_ids': ['068c993b-88b6-49a8-ac47-78e6e72ec6d3', 'c2541e9b-73f0-4bfc-81b1-35ea1354601e']}\n",
      "{'event': 'on_chat_model_stream', 'data': {'chunk': AIMessageChunk(content=' that', additional_kwargs={}, response_metadata={}, id='run--724978ba-0918-48b1-acb0-7c6c19161f58')}, 'run_id': '724978ba-0918-48b1-acb0-7c6c19161f58', 'name': 'ChatGroq', 'tags': ['seq:step:1'], 'metadata': {'thread_id': '5', 'langgraph_step': 1, 'langgraph_node': 'SuperBot', 'langgraph_triggers': ('branch:to:SuperBot',), 'langgraph_path': ('__pregel_pull', 'SuperBot'), 'langgraph_checkpoint_ns': 'SuperBot:fdc70507-5736-3f0b-730c-2492fda0c7e5', 'checkpoint_ns': 'SuperBot:fdc70507-5736-3f0b-730c-2492fda0c7e5', 'ls_provider': 'groq', 'ls_model_name': 'llama3-8b-8192', 'ls_model_type': 'chat', 'ls_temperature': 0.7}, 'parent_ids': ['068c993b-88b6-49a8-ac47-78e6e72ec6d3', 'c2541e9b-73f0-4bfc-81b1-35ea1354601e']}\n",
      "{'event': 'on_chat_model_stream', 'data': {'chunk': AIMessageChunk(content=' you', additional_kwargs={}, response_metadata={}, id='run--724978ba-0918-48b1-acb0-7c6c19161f58')}, 'run_id': '724978ba-0918-48b1-acb0-7c6c19161f58', 'name': 'ChatGroq', 'tags': ['seq:step:1'], 'metadata': {'thread_id': '5', 'langgraph_step': 1, 'langgraph_node': 'SuperBot', 'langgraph_triggers': ('branch:to:SuperBot',), 'langgraph_path': ('__pregel_pull', 'SuperBot'), 'langgraph_checkpoint_ns': 'SuperBot:fdc70507-5736-3f0b-730c-2492fda0c7e5', 'checkpoint_ns': 'SuperBot:fdc70507-5736-3f0b-730c-2492fda0c7e5', 'ls_provider': 'groq', 'ls_model_name': 'llama3-8b-8192', 'ls_model_type': 'chat', 'ls_temperature': 0.7}, 'parent_ids': ['068c993b-88b6-49a8-ac47-78e6e72ec6d3', 'c2541e9b-73f0-4bfc-81b1-35ea1354601e']}\n",
      "{'event': 'on_chat_model_stream', 'data': {'chunk': AIMessageChunk(content=' enjoy', additional_kwargs={}, response_metadata={}, id='run--724978ba-0918-48b1-acb0-7c6c19161f58')}, 'run_id': '724978ba-0918-48b1-acb0-7c6c19161f58', 'name': 'ChatGroq', 'tags': ['seq:step:1'], 'metadata': {'thread_id': '5', 'langgraph_step': 1, 'langgraph_node': 'SuperBot', 'langgraph_triggers': ('branch:to:SuperBot',), 'langgraph_path': ('__pregel_pull', 'SuperBot'), 'langgraph_checkpoint_ns': 'SuperBot:fdc70507-5736-3f0b-730c-2492fda0c7e5', 'checkpoint_ns': 'SuperBot:fdc70507-5736-3f0b-730c-2492fda0c7e5', 'ls_provider': 'groq', 'ls_model_name': 'llama3-8b-8192', 'ls_model_type': 'chat', 'ls_temperature': 0.7}, 'parent_ids': ['068c993b-88b6-49a8-ac47-78e6e72ec6d3', 'c2541e9b-73f0-4bfc-81b1-35ea1354601e']}\n",
      "{'event': 'on_chat_model_stream', 'data': {'chunk': AIMessageChunk(content=' playing', additional_kwargs={}, response_metadata={}, id='run--724978ba-0918-48b1-acb0-7c6c19161f58')}, 'run_id': '724978ba-0918-48b1-acb0-7c6c19161f58', 'name': 'ChatGroq', 'tags': ['seq:step:1'], 'metadata': {'thread_id': '5', 'langgraph_step': 1, 'langgraph_node': 'SuperBot', 'langgraph_triggers': ('branch:to:SuperBot',), 'langgraph_path': ('__pregel_pull', 'SuperBot'), 'langgraph_checkpoint_ns': 'SuperBot:fdc70507-5736-3f0b-730c-2492fda0c7e5', 'checkpoint_ns': 'SuperBot:fdc70507-5736-3f0b-730c-2492fda0c7e5', 'ls_provider': 'groq', 'ls_model_name': 'llama3-8b-8192', 'ls_model_type': 'chat', 'ls_temperature': 0.7}, 'parent_ids': ['068c993b-88b6-49a8-ac47-78e6e72ec6d3', 'c2541e9b-73f0-4bfc-81b1-35ea1354601e']}\n",
      "{'event': 'on_chat_model_stream', 'data': {'chunk': AIMessageChunk(content=' Bad', additional_kwargs={}, response_metadata={}, id='run--724978ba-0918-48b1-acb0-7c6c19161f58')}, 'run_id': '724978ba-0918-48b1-acb0-7c6c19161f58', 'name': 'ChatGroq', 'tags': ['seq:step:1'], 'metadata': {'thread_id': '5', 'langgraph_step': 1, 'langgraph_node': 'SuperBot', 'langgraph_triggers': ('branch:to:SuperBot',), 'langgraph_path': ('__pregel_pull', 'SuperBot'), 'langgraph_checkpoint_ns': 'SuperBot:fdc70507-5736-3f0b-730c-2492fda0c7e5', 'checkpoint_ns': 'SuperBot:fdc70507-5736-3f0b-730c-2492fda0c7e5', 'ls_provider': 'groq', 'ls_model_name': 'llama3-8b-8192', 'ls_model_type': 'chat', 'ls_temperature': 0.7}, 'parent_ids': ['068c993b-88b6-49a8-ac47-78e6e72ec6d3', 'c2541e9b-73f0-4bfc-81b1-35ea1354601e']}\n",
      "{'event': 'on_chat_model_stream', 'data': {'chunk': AIMessageChunk(content='m', additional_kwargs={}, response_metadata={}, id='run--724978ba-0918-48b1-acb0-7c6c19161f58')}, 'run_id': '724978ba-0918-48b1-acb0-7c6c19161f58', 'name': 'ChatGroq', 'tags': ['seq:step:1'], 'metadata': {'thread_id': '5', 'langgraph_step': 1, 'langgraph_node': 'SuperBot', 'langgraph_triggers': ('branch:to:SuperBot',), 'langgraph_path': ('__pregel_pull', 'SuperBot'), 'langgraph_checkpoint_ns': 'SuperBot:fdc70507-5736-3f0b-730c-2492fda0c7e5', 'checkpoint_ns': 'SuperBot:fdc70507-5736-3f0b-730c-2492fda0c7e5', 'ls_provider': 'groq', 'ls_model_name': 'llama3-8b-8192', 'ls_model_type': 'chat', 'ls_temperature': 0.7}, 'parent_ids': ['068c993b-88b6-49a8-ac47-78e6e72ec6d3', 'c2541e9b-73f0-4bfc-81b1-35ea1354601e']}\n",
      "{'event': 'on_chat_model_stream', 'data': {'chunk': AIMessageChunk(content='inton', additional_kwargs={}, response_metadata={}, id='run--724978ba-0918-48b1-acb0-7c6c19161f58')}, 'run_id': '724978ba-0918-48b1-acb0-7c6c19161f58', 'name': 'ChatGroq', 'tags': ['seq:step:1'], 'metadata': {'thread_id': '5', 'langgraph_step': 1, 'langgraph_node': 'SuperBot', 'langgraph_triggers': ('branch:to:SuperBot',), 'langgraph_path': ('__pregel_pull', 'SuperBot'), 'langgraph_checkpoint_ns': 'SuperBot:fdc70507-5736-3f0b-730c-2492fda0c7e5', 'checkpoint_ns': 'SuperBot:fdc70507-5736-3f0b-730c-2492fda0c7e5', 'ls_provider': 'groq', 'ls_model_name': 'llama3-8b-8192', 'ls_model_type': 'chat', 'ls_temperature': 0.7}, 'parent_ids': ['068c993b-88b6-49a8-ac47-78e6e72ec6d3', 'c2541e9b-73f0-4bfc-81b1-35ea1354601e']}\n",
      "{'event': 'on_chat_model_stream', 'data': {'chunk': AIMessageChunk(content='!', additional_kwargs={}, response_metadata={}, id='run--724978ba-0918-48b1-acb0-7c6c19161f58')}, 'run_id': '724978ba-0918-48b1-acb0-7c6c19161f58', 'name': 'ChatGroq', 'tags': ['seq:step:1'], 'metadata': {'thread_id': '5', 'langgraph_step': 1, 'langgraph_node': 'SuperBot', 'langgraph_triggers': ('branch:to:SuperBot',), 'langgraph_path': ('__pregel_pull', 'SuperBot'), 'langgraph_checkpoint_ns': 'SuperBot:fdc70507-5736-3f0b-730c-2492fda0c7e5', 'checkpoint_ns': 'SuperBot:fdc70507-5736-3f0b-730c-2492fda0c7e5', 'ls_provider': 'groq', 'ls_model_name': 'llama3-8b-8192', 'ls_model_type': 'chat', 'ls_temperature': 0.7}, 'parent_ids': ['068c993b-88b6-49a8-ac47-78e6e72ec6d3', 'c2541e9b-73f0-4bfc-81b1-35ea1354601e']}\n",
      "{'event': 'on_chat_model_stream', 'data': {'chunk': AIMessageChunk(content=' What', additional_kwargs={}, response_metadata={}, id='run--724978ba-0918-48b1-acb0-7c6c19161f58')}, 'run_id': '724978ba-0918-48b1-acb0-7c6c19161f58', 'name': 'ChatGroq', 'tags': ['seq:step:1'], 'metadata': {'thread_id': '5', 'langgraph_step': 1, 'langgraph_node': 'SuperBot', 'langgraph_triggers': ('branch:to:SuperBot',), 'langgraph_path': ('__pregel_pull', 'SuperBot'), 'langgraph_checkpoint_ns': 'SuperBot:fdc70507-5736-3f0b-730c-2492fda0c7e5', 'checkpoint_ns': 'SuperBot:fdc70507-5736-3f0b-730c-2492fda0c7e5', 'ls_provider': 'groq', 'ls_model_name': 'llama3-8b-8192', 'ls_model_type': 'chat', 'ls_temperature': 0.7}, 'parent_ids': ['068c993b-88b6-49a8-ac47-78e6e72ec6d3', 'c2541e9b-73f0-4bfc-81b1-35ea1354601e']}\n",
      "{'event': 'on_chat_model_stream', 'data': {'chunk': AIMessageChunk(content=\"'s\", additional_kwargs={}, response_metadata={}, id='run--724978ba-0918-48b1-acb0-7c6c19161f58')}, 'run_id': '724978ba-0918-48b1-acb0-7c6c19161f58', 'name': 'ChatGroq', 'tags': ['seq:step:1'], 'metadata': {'thread_id': '5', 'langgraph_step': 1, 'langgraph_node': 'SuperBot', 'langgraph_triggers': ('branch:to:SuperBot',), 'langgraph_path': ('__pregel_pull', 'SuperBot'), 'langgraph_checkpoint_ns': 'SuperBot:fdc70507-5736-3f0b-730c-2492fda0c7e5', 'checkpoint_ns': 'SuperBot:fdc70507-5736-3f0b-730c-2492fda0c7e5', 'ls_provider': 'groq', 'ls_model_name': 'llama3-8b-8192', 'ls_model_type': 'chat', 'ls_temperature': 0.7}, 'parent_ids': ['068c993b-88b6-49a8-ac47-78e6e72ec6d3', 'c2541e9b-73f0-4bfc-81b1-35ea1354601e']}\n",
      "{'event': 'on_chat_model_stream', 'data': {'chunk': AIMessageChunk(content=' your', additional_kwargs={}, response_metadata={}, id='run--724978ba-0918-48b1-acb0-7c6c19161f58')}, 'run_id': '724978ba-0918-48b1-acb0-7c6c19161f58', 'name': 'ChatGroq', 'tags': ['seq:step:1'], 'metadata': {'thread_id': '5', 'langgraph_step': 1, 'langgraph_node': 'SuperBot', 'langgraph_triggers': ('branch:to:SuperBot',), 'langgraph_path': ('__pregel_pull', 'SuperBot'), 'langgraph_checkpoint_ns': 'SuperBot:fdc70507-5736-3f0b-730c-2492fda0c7e5', 'checkpoint_ns': 'SuperBot:fdc70507-5736-3f0b-730c-2492fda0c7e5', 'ls_provider': 'groq', 'ls_model_name': 'llama3-8b-8192', 'ls_model_type': 'chat', 'ls_temperature': 0.7}, 'parent_ids': ['068c993b-88b6-49a8-ac47-78e6e72ec6d3', 'c2541e9b-73f0-4bfc-81b1-35ea1354601e']}\n",
      "{'event': 'on_chat_model_stream', 'data': {'chunk': AIMessageChunk(content=' favorite', additional_kwargs={}, response_metadata={}, id='run--724978ba-0918-48b1-acb0-7c6c19161f58')}, 'run_id': '724978ba-0918-48b1-acb0-7c6c19161f58', 'name': 'ChatGroq', 'tags': ['seq:step:1'], 'metadata': {'thread_id': '5', 'langgraph_step': 1, 'langgraph_node': 'SuperBot', 'langgraph_triggers': ('branch:to:SuperBot',), 'langgraph_path': ('__pregel_pull', 'SuperBot'), 'langgraph_checkpoint_ns': 'SuperBot:fdc70507-5736-3f0b-730c-2492fda0c7e5', 'checkpoint_ns': 'SuperBot:fdc70507-5736-3f0b-730c-2492fda0c7e5', 'ls_provider': 'groq', 'ls_model_name': 'llama3-8b-8192', 'ls_model_type': 'chat', 'ls_temperature': 0.7}, 'parent_ids': ['068c993b-88b6-49a8-ac47-78e6e72ec6d3', 'c2541e9b-73f0-4bfc-81b1-35ea1354601e']}\n",
      "{'event': 'on_chat_model_stream', 'data': {'chunk': AIMessageChunk(content=' thing', additional_kwargs={}, response_metadata={}, id='run--724978ba-0918-48b1-acb0-7c6c19161f58')}, 'run_id': '724978ba-0918-48b1-acb0-7c6c19161f58', 'name': 'ChatGroq', 'tags': ['seq:step:1'], 'metadata': {'thread_id': '5', 'langgraph_step': 1, 'langgraph_node': 'SuperBot', 'langgraph_triggers': ('branch:to:SuperBot',), 'langgraph_path': ('__pregel_pull', 'SuperBot'), 'langgraph_checkpoint_ns': 'SuperBot:fdc70507-5736-3f0b-730c-2492fda0c7e5', 'checkpoint_ns': 'SuperBot:fdc70507-5736-3f0b-730c-2492fda0c7e5', 'ls_provider': 'groq', 'ls_model_name': 'llama3-8b-8192', 'ls_model_type': 'chat', 'ls_temperature': 0.7}, 'parent_ids': ['068c993b-88b6-49a8-ac47-78e6e72ec6d3', 'c2541e9b-73f0-4bfc-81b1-35ea1354601e']}\n",
      "{'event': 'on_chat_model_stream', 'data': {'chunk': AIMessageChunk(content=' about', additional_kwargs={}, response_metadata={}, id='run--724978ba-0918-48b1-acb0-7c6c19161f58')}, 'run_id': '724978ba-0918-48b1-acb0-7c6c19161f58', 'name': 'ChatGroq', 'tags': ['seq:step:1'], 'metadata': {'thread_id': '5', 'langgraph_step': 1, 'langgraph_node': 'SuperBot', 'langgraph_triggers': ('branch:to:SuperBot',), 'langgraph_path': ('__pregel_pull', 'SuperBot'), 'langgraph_checkpoint_ns': 'SuperBot:fdc70507-5736-3f0b-730c-2492fda0c7e5', 'checkpoint_ns': 'SuperBot:fdc70507-5736-3f0b-730c-2492fda0c7e5', 'ls_provider': 'groq', 'ls_model_name': 'llama3-8b-8192', 'ls_model_type': 'chat', 'ls_temperature': 0.7}, 'parent_ids': ['068c993b-88b6-49a8-ac47-78e6e72ec6d3', 'c2541e9b-73f0-4bfc-81b1-35ea1354601e']}\n",
      "{'event': 'on_chat_model_stream', 'data': {'chunk': AIMessageChunk(content=' playing', additional_kwargs={}, response_metadata={}, id='run--724978ba-0918-48b1-acb0-7c6c19161f58')}, 'run_id': '724978ba-0918-48b1-acb0-7c6c19161f58', 'name': 'ChatGroq', 'tags': ['seq:step:1'], 'metadata': {'thread_id': '5', 'langgraph_step': 1, 'langgraph_node': 'SuperBot', 'langgraph_triggers': ('branch:to:SuperBot',), 'langgraph_path': ('__pregel_pull', 'SuperBot'), 'langgraph_checkpoint_ns': 'SuperBot:fdc70507-5736-3f0b-730c-2492fda0c7e5', 'checkpoint_ns': 'SuperBot:fdc70507-5736-3f0b-730c-2492fda0c7e5', 'ls_provider': 'groq', 'ls_model_name': 'llama3-8b-8192', 'ls_model_type': 'chat', 'ls_temperature': 0.7}, 'parent_ids': ['068c993b-88b6-49a8-ac47-78e6e72ec6d3', 'c2541e9b-73f0-4bfc-81b1-35ea1354601e']}\n",
      "{'event': 'on_chat_model_stream', 'data': {'chunk': AIMessageChunk(content=' the', additional_kwargs={}, response_metadata={}, id='run--724978ba-0918-48b1-acb0-7c6c19161f58')}, 'run_id': '724978ba-0918-48b1-acb0-7c6c19161f58', 'name': 'ChatGroq', 'tags': ['seq:step:1'], 'metadata': {'thread_id': '5', 'langgraph_step': 1, 'langgraph_node': 'SuperBot', 'langgraph_triggers': ('branch:to:SuperBot',), 'langgraph_path': ('__pregel_pull', 'SuperBot'), 'langgraph_checkpoint_ns': 'SuperBot:fdc70507-5736-3f0b-730c-2492fda0c7e5', 'checkpoint_ns': 'SuperBot:fdc70507-5736-3f0b-730c-2492fda0c7e5', 'ls_provider': 'groq', 'ls_model_name': 'llama3-8b-8192', 'ls_model_type': 'chat', 'ls_temperature': 0.7}, 'parent_ids': ['068c993b-88b6-49a8-ac47-78e6e72ec6d3', 'c2541e9b-73f0-4bfc-81b1-35ea1354601e']}\n",
      "{'event': 'on_chat_model_stream', 'data': {'chunk': AIMessageChunk(content=' game', additional_kwargs={}, response_metadata={}, id='run--724978ba-0918-48b1-acb0-7c6c19161f58')}, 'run_id': '724978ba-0918-48b1-acb0-7c6c19161f58', 'name': 'ChatGroq', 'tags': ['seq:step:1'], 'metadata': {'thread_id': '5', 'langgraph_step': 1, 'langgraph_node': 'SuperBot', 'langgraph_triggers': ('branch:to:SuperBot',), 'langgraph_path': ('__pregel_pull', 'SuperBot'), 'langgraph_checkpoint_ns': 'SuperBot:fdc70507-5736-3f0b-730c-2492fda0c7e5', 'checkpoint_ns': 'SuperBot:fdc70507-5736-3f0b-730c-2492fda0c7e5', 'ls_provider': 'groq', 'ls_model_name': 'llama3-8b-8192', 'ls_model_type': 'chat', 'ls_temperature': 0.7}, 'parent_ids': ['068c993b-88b6-49a8-ac47-78e6e72ec6d3', 'c2541e9b-73f0-4bfc-81b1-35ea1354601e']}\n",
      "{'event': 'on_chat_model_stream', 'data': {'chunk': AIMessageChunk(content='?', additional_kwargs={}, response_metadata={}, id='run--724978ba-0918-48b1-acb0-7c6c19161f58')}, 'run_id': '724978ba-0918-48b1-acb0-7c6c19161f58', 'name': 'ChatGroq', 'tags': ['seq:step:1'], 'metadata': {'thread_id': '5', 'langgraph_step': 1, 'langgraph_node': 'SuperBot', 'langgraph_triggers': ('branch:to:SuperBot',), 'langgraph_path': ('__pregel_pull', 'SuperBot'), 'langgraph_checkpoint_ns': 'SuperBot:fdc70507-5736-3f0b-730c-2492fda0c7e5', 'checkpoint_ns': 'SuperBot:fdc70507-5736-3f0b-730c-2492fda0c7e5', 'ls_provider': 'groq', 'ls_model_name': 'llama3-8b-8192', 'ls_model_type': 'chat', 'ls_temperature': 0.7}, 'parent_ids': ['068c993b-88b6-49a8-ac47-78e6e72ec6d3', 'c2541e9b-73f0-4bfc-81b1-35ea1354601e']}\n",
      "{'event': 'on_chat_model_stream', 'data': {'chunk': AIMessageChunk(content=' Is', additional_kwargs={}, response_metadata={}, id='run--724978ba-0918-48b1-acb0-7c6c19161f58')}, 'run_id': '724978ba-0918-48b1-acb0-7c6c19161f58', 'name': 'ChatGroq', 'tags': ['seq:step:1'], 'metadata': {'thread_id': '5', 'langgraph_step': 1, 'langgraph_node': 'SuperBot', 'langgraph_triggers': ('branch:to:SuperBot',), 'langgraph_path': ('__pregel_pull', 'SuperBot'), 'langgraph_checkpoint_ns': 'SuperBot:fdc70507-5736-3f0b-730c-2492fda0c7e5', 'checkpoint_ns': 'SuperBot:fdc70507-5736-3f0b-730c-2492fda0c7e5', 'ls_provider': 'groq', 'ls_model_name': 'llama3-8b-8192', 'ls_model_type': 'chat', 'ls_temperature': 0.7}, 'parent_ids': ['068c993b-88b6-49a8-ac47-78e6e72ec6d3', 'c2541e9b-73f0-4bfc-81b1-35ea1354601e']}\n",
      "{'event': 'on_chat_model_stream', 'data': {'chunk': AIMessageChunk(content=' it', additional_kwargs={}, response_metadata={}, id='run--724978ba-0918-48b1-acb0-7c6c19161f58')}, 'run_id': '724978ba-0918-48b1-acb0-7c6c19161f58', 'name': 'ChatGroq', 'tags': ['seq:step:1'], 'metadata': {'thread_id': '5', 'langgraph_step': 1, 'langgraph_node': 'SuperBot', 'langgraph_triggers': ('branch:to:SuperBot',), 'langgraph_path': ('__pregel_pull', 'SuperBot'), 'langgraph_checkpoint_ns': 'SuperBot:fdc70507-5736-3f0b-730c-2492fda0c7e5', 'checkpoint_ns': 'SuperBot:fdc70507-5736-3f0b-730c-2492fda0c7e5', 'ls_provider': 'groq', 'ls_model_name': 'llama3-8b-8192', 'ls_model_type': 'chat', 'ls_temperature': 0.7}, 'parent_ids': ['068c993b-88b6-49a8-ac47-78e6e72ec6d3', 'c2541e9b-73f0-4bfc-81b1-35ea1354601e']}\n",
      "{'event': 'on_chat_model_stream', 'data': {'chunk': AIMessageChunk(content=' the', additional_kwargs={}, response_metadata={}, id='run--724978ba-0918-48b1-acb0-7c6c19161f58')}, 'run_id': '724978ba-0918-48b1-acb0-7c6c19161f58', 'name': 'ChatGroq', 'tags': ['seq:step:1'], 'metadata': {'thread_id': '5', 'langgraph_step': 1, 'langgraph_node': 'SuperBot', 'langgraph_triggers': ('branch:to:SuperBot',), 'langgraph_path': ('__pregel_pull', 'SuperBot'), 'langgraph_checkpoint_ns': 'SuperBot:fdc70507-5736-3f0b-730c-2492fda0c7e5', 'checkpoint_ns': 'SuperBot:fdc70507-5736-3f0b-730c-2492fda0c7e5', 'ls_provider': 'groq', 'ls_model_name': 'llama3-8b-8192', 'ls_model_type': 'chat', 'ls_temperature': 0.7}, 'parent_ids': ['068c993b-88b6-49a8-ac47-78e6e72ec6d3', 'c2541e9b-73f0-4bfc-81b1-35ea1354601e']}\n",
      "{'event': 'on_chat_model_stream', 'data': {'chunk': AIMessageChunk(content=' thrill', additional_kwargs={}, response_metadata={}, id='run--724978ba-0918-48b1-acb0-7c6c19161f58')}, 'run_id': '724978ba-0918-48b1-acb0-7c6c19161f58', 'name': 'ChatGroq', 'tags': ['seq:step:1'], 'metadata': {'thread_id': '5', 'langgraph_step': 1, 'langgraph_node': 'SuperBot', 'langgraph_triggers': ('branch:to:SuperBot',), 'langgraph_path': ('__pregel_pull', 'SuperBot'), 'langgraph_checkpoint_ns': 'SuperBot:fdc70507-5736-3f0b-730c-2492fda0c7e5', 'checkpoint_ns': 'SuperBot:fdc70507-5736-3f0b-730c-2492fda0c7e5', 'ls_provider': 'groq', 'ls_model_name': 'llama3-8b-8192', 'ls_model_type': 'chat', 'ls_temperature': 0.7}, 'parent_ids': ['068c993b-88b6-49a8-ac47-78e6e72ec6d3', 'c2541e9b-73f0-4bfc-81b1-35ea1354601e']}\n",
      "{'event': 'on_chat_model_stream', 'data': {'chunk': AIMessageChunk(content=' of', additional_kwargs={}, response_metadata={}, id='run--724978ba-0918-48b1-acb0-7c6c19161f58')}, 'run_id': '724978ba-0918-48b1-acb0-7c6c19161f58', 'name': 'ChatGroq', 'tags': ['seq:step:1'], 'metadata': {'thread_id': '5', 'langgraph_step': 1, 'langgraph_node': 'SuperBot', 'langgraph_triggers': ('branch:to:SuperBot',), 'langgraph_path': ('__pregel_pull', 'SuperBot'), 'langgraph_checkpoint_ns': 'SuperBot:fdc70507-5736-3f0b-730c-2492fda0c7e5', 'checkpoint_ns': 'SuperBot:fdc70507-5736-3f0b-730c-2492fda0c7e5', 'ls_provider': 'groq', 'ls_model_name': 'llama3-8b-8192', 'ls_model_type': 'chat', 'ls_temperature': 0.7}, 'parent_ids': ['068c993b-88b6-49a8-ac47-78e6e72ec6d3', 'c2541e9b-73f0-4bfc-81b1-35ea1354601e']}\n",
      "{'event': 'on_chat_model_stream', 'data': {'chunk': AIMessageChunk(content=' hitting', additional_kwargs={}, response_metadata={}, id='run--724978ba-0918-48b1-acb0-7c6c19161f58')}, 'run_id': '724978ba-0918-48b1-acb0-7c6c19161f58', 'name': 'ChatGroq', 'tags': ['seq:step:1'], 'metadata': {'thread_id': '5', 'langgraph_step': 1, 'langgraph_node': 'SuperBot', 'langgraph_triggers': ('branch:to:SuperBot',), 'langgraph_path': ('__pregel_pull', 'SuperBot'), 'langgraph_checkpoint_ns': 'SuperBot:fdc70507-5736-3f0b-730c-2492fda0c7e5', 'checkpoint_ns': 'SuperBot:fdc70507-5736-3f0b-730c-2492fda0c7e5', 'ls_provider': 'groq', 'ls_model_name': 'llama3-8b-8192', 'ls_model_type': 'chat', 'ls_temperature': 0.7}, 'parent_ids': ['068c993b-88b6-49a8-ac47-78e6e72ec6d3', 'c2541e9b-73f0-4bfc-81b1-35ea1354601e']}\n",
      "{'event': 'on_chat_model_stream', 'data': {'chunk': AIMessageChunk(content=' a', additional_kwargs={}, response_metadata={}, id='run--724978ba-0918-48b1-acb0-7c6c19161f58')}, 'run_id': '724978ba-0918-48b1-acb0-7c6c19161f58', 'name': 'ChatGroq', 'tags': ['seq:step:1'], 'metadata': {'thread_id': '5', 'langgraph_step': 1, 'langgraph_node': 'SuperBot', 'langgraph_triggers': ('branch:to:SuperBot',), 'langgraph_path': ('__pregel_pull', 'SuperBot'), 'langgraph_checkpoint_ns': 'SuperBot:fdc70507-5736-3f0b-730c-2492fda0c7e5', 'checkpoint_ns': 'SuperBot:fdc70507-5736-3f0b-730c-2492fda0c7e5', 'ls_provider': 'groq', 'ls_model_name': 'llama3-8b-8192', 'ls_model_type': 'chat', 'ls_temperature': 0.7}, 'parent_ids': ['068c993b-88b6-49a8-ac47-78e6e72ec6d3', 'c2541e9b-73f0-4bfc-81b1-35ea1354601e']}\n",
      "{'event': 'on_chat_model_stream', 'data': {'chunk': AIMessageChunk(content=' winning', additional_kwargs={}, response_metadata={}, id='run--724978ba-0918-48b1-acb0-7c6c19161f58')}, 'run_id': '724978ba-0918-48b1-acb0-7c6c19161f58', 'name': 'ChatGroq', 'tags': ['seq:step:1'], 'metadata': {'thread_id': '5', 'langgraph_step': 1, 'langgraph_node': 'SuperBot', 'langgraph_triggers': ('branch:to:SuperBot',), 'langgraph_path': ('__pregel_pull', 'SuperBot'), 'langgraph_checkpoint_ns': 'SuperBot:fdc70507-5736-3f0b-730c-2492fda0c7e5', 'checkpoint_ns': 'SuperBot:fdc70507-5736-3f0b-730c-2492fda0c7e5', 'ls_provider': 'groq', 'ls_model_name': 'llama3-8b-8192', 'ls_model_type': 'chat', 'ls_temperature': 0.7}, 'parent_ids': ['068c993b-88b6-49a8-ac47-78e6e72ec6d3', 'c2541e9b-73f0-4bfc-81b1-35ea1354601e']}\n",
      "{'event': 'on_chat_model_stream', 'data': {'chunk': AIMessageChunk(content=' shot', additional_kwargs={}, response_metadata={}, id='run--724978ba-0918-48b1-acb0-7c6c19161f58')}, 'run_id': '724978ba-0918-48b1-acb0-7c6c19161f58', 'name': 'ChatGroq', 'tags': ['seq:step:1'], 'metadata': {'thread_id': '5', 'langgraph_step': 1, 'langgraph_node': 'SuperBot', 'langgraph_triggers': ('branch:to:SuperBot',), 'langgraph_path': ('__pregel_pull', 'SuperBot'), 'langgraph_checkpoint_ns': 'SuperBot:fdc70507-5736-3f0b-730c-2492fda0c7e5', 'checkpoint_ns': 'SuperBot:fdc70507-5736-3f0b-730c-2492fda0c7e5', 'ls_provider': 'groq', 'ls_model_name': 'llama3-8b-8192', 'ls_model_type': 'chat', 'ls_temperature': 0.7}, 'parent_ids': ['068c993b-88b6-49a8-ac47-78e6e72ec6d3', 'c2541e9b-73f0-4bfc-81b1-35ea1354601e']}\n",
      "{'event': 'on_chat_model_stream', 'data': {'chunk': AIMessageChunk(content=',', additional_kwargs={}, response_metadata={}, id='run--724978ba-0918-48b1-acb0-7c6c19161f58')}, 'run_id': '724978ba-0918-48b1-acb0-7c6c19161f58', 'name': 'ChatGroq', 'tags': ['seq:step:1'], 'metadata': {'thread_id': '5', 'langgraph_step': 1, 'langgraph_node': 'SuperBot', 'langgraph_triggers': ('branch:to:SuperBot',), 'langgraph_path': ('__pregel_pull', 'SuperBot'), 'langgraph_checkpoint_ns': 'SuperBot:fdc70507-5736-3f0b-730c-2492fda0c7e5', 'checkpoint_ns': 'SuperBot:fdc70507-5736-3f0b-730c-2492fda0c7e5', 'ls_provider': 'groq', 'ls_model_name': 'llama3-8b-8192', 'ls_model_type': 'chat', 'ls_temperature': 0.7}, 'parent_ids': ['068c993b-88b6-49a8-ac47-78e6e72ec6d3', 'c2541e9b-73f0-4bfc-81b1-35ea1354601e']}\n",
      "{'event': 'on_chat_model_stream', 'data': {'chunk': AIMessageChunk(content=' the', additional_kwargs={}, response_metadata={}, id='run--724978ba-0918-48b1-acb0-7c6c19161f58')}, 'run_id': '724978ba-0918-48b1-acb0-7c6c19161f58', 'name': 'ChatGroq', 'tags': ['seq:step:1'], 'metadata': {'thread_id': '5', 'langgraph_step': 1, 'langgraph_node': 'SuperBot', 'langgraph_triggers': ('branch:to:SuperBot',), 'langgraph_path': ('__pregel_pull', 'SuperBot'), 'langgraph_checkpoint_ns': 'SuperBot:fdc70507-5736-3f0b-730c-2492fda0c7e5', 'checkpoint_ns': 'SuperBot:fdc70507-5736-3f0b-730c-2492fda0c7e5', 'ls_provider': 'groq', 'ls_model_name': 'llama3-8b-8192', 'ls_model_type': 'chat', 'ls_temperature': 0.7}, 'parent_ids': ['068c993b-88b6-49a8-ac47-78e6e72ec6d3', 'c2541e9b-73f0-4bfc-81b1-35ea1354601e']}\n",
      "{'event': 'on_chat_model_stream', 'data': {'chunk': AIMessageChunk(content=' excitement', additional_kwargs={}, response_metadata={}, id='run--724978ba-0918-48b1-acb0-7c6c19161f58')}, 'run_id': '724978ba-0918-48b1-acb0-7c6c19161f58', 'name': 'ChatGroq', 'tags': ['seq:step:1'], 'metadata': {'thread_id': '5', 'langgraph_step': 1, 'langgraph_node': 'SuperBot', 'langgraph_triggers': ('branch:to:SuperBot',), 'langgraph_path': ('__pregel_pull', 'SuperBot'), 'langgraph_checkpoint_ns': 'SuperBot:fdc70507-5736-3f0b-730c-2492fda0c7e5', 'checkpoint_ns': 'SuperBot:fdc70507-5736-3f0b-730c-2492fda0c7e5', 'ls_provider': 'groq', 'ls_model_name': 'llama3-8b-8192', 'ls_model_type': 'chat', 'ls_temperature': 0.7}, 'parent_ids': ['068c993b-88b6-49a8-ac47-78e6e72ec6d3', 'c2541e9b-73f0-4bfc-81b1-35ea1354601e']}\n",
      "{'event': 'on_chat_model_stream', 'data': {'chunk': AIMessageChunk(content=' of', additional_kwargs={}, response_metadata={}, id='run--724978ba-0918-48b1-acb0-7c6c19161f58')}, 'run_id': '724978ba-0918-48b1-acb0-7c6c19161f58', 'name': 'ChatGroq', 'tags': ['seq:step:1'], 'metadata': {'thread_id': '5', 'langgraph_step': 1, 'langgraph_node': 'SuperBot', 'langgraph_triggers': ('branch:to:SuperBot',), 'langgraph_path': ('__pregel_pull', 'SuperBot'), 'langgraph_checkpoint_ns': 'SuperBot:fdc70507-5736-3f0b-730c-2492fda0c7e5', 'checkpoint_ns': 'SuperBot:fdc70507-5736-3f0b-730c-2492fda0c7e5', 'ls_provider': 'groq', 'ls_model_name': 'llama3-8b-8192', 'ls_model_type': 'chat', 'ls_temperature': 0.7}, 'parent_ids': ['068c993b-88b6-49a8-ac47-78e6e72ec6d3', 'c2541e9b-73f0-4bfc-81b1-35ea1354601e']}\n",
      "{'event': 'on_chat_model_stream', 'data': {'chunk': AIMessageChunk(content=' playing', additional_kwargs={}, response_metadata={}, id='run--724978ba-0918-48b1-acb0-7c6c19161f58')}, 'run_id': '724978ba-0918-48b1-acb0-7c6c19161f58', 'name': 'ChatGroq', 'tags': ['seq:step:1'], 'metadata': {'thread_id': '5', 'langgraph_step': 1, 'langgraph_node': 'SuperBot', 'langgraph_triggers': ('branch:to:SuperBot',), 'langgraph_path': ('__pregel_pull', 'SuperBot'), 'langgraph_checkpoint_ns': 'SuperBot:fdc70507-5736-3f0b-730c-2492fda0c7e5', 'checkpoint_ns': 'SuperBot:fdc70507-5736-3f0b-730c-2492fda0c7e5', 'ls_provider': 'groq', 'ls_model_name': 'llama3-8b-8192', 'ls_model_type': 'chat', 'ls_temperature': 0.7}, 'parent_ids': ['068c993b-88b6-49a8-ac47-78e6e72ec6d3', 'c2541e9b-73f0-4bfc-81b1-35ea1354601e']}\n",
      "{'event': 'on_chat_model_stream', 'data': {'chunk': AIMessageChunk(content=' with', additional_kwargs={}, response_metadata={}, id='run--724978ba-0918-48b1-acb0-7c6c19161f58')}, 'run_id': '724978ba-0918-48b1-acb0-7c6c19161f58', 'name': 'ChatGroq', 'tags': ['seq:step:1'], 'metadata': {'thread_id': '5', 'langgraph_step': 1, 'langgraph_node': 'SuperBot', 'langgraph_triggers': ('branch:to:SuperBot',), 'langgraph_path': ('__pregel_pull', 'SuperBot'), 'langgraph_checkpoint_ns': 'SuperBot:fdc70507-5736-3f0b-730c-2492fda0c7e5', 'checkpoint_ns': 'SuperBot:fdc70507-5736-3f0b-730c-2492fda0c7e5', 'ls_provider': 'groq', 'ls_model_name': 'llama3-8b-8192', 'ls_model_type': 'chat', 'ls_temperature': 0.7}, 'parent_ids': ['068c993b-88b6-49a8-ac47-78e6e72ec6d3', 'c2541e9b-73f0-4bfc-81b1-35ea1354601e']}\n",
      "{'event': 'on_chat_model_stream', 'data': {'chunk': AIMessageChunk(content=' friends', additional_kwargs={}, response_metadata={}, id='run--724978ba-0918-48b1-acb0-7c6c19161f58')}, 'run_id': '724978ba-0918-48b1-acb0-7c6c19161f58', 'name': 'ChatGroq', 'tags': ['seq:step:1'], 'metadata': {'thread_id': '5', 'langgraph_step': 1, 'langgraph_node': 'SuperBot', 'langgraph_triggers': ('branch:to:SuperBot',), 'langgraph_path': ('__pregel_pull', 'SuperBot'), 'langgraph_checkpoint_ns': 'SuperBot:fdc70507-5736-3f0b-730c-2492fda0c7e5', 'checkpoint_ns': 'SuperBot:fdc70507-5736-3f0b-730c-2492fda0c7e5', 'ls_provider': 'groq', 'ls_model_name': 'llama3-8b-8192', 'ls_model_type': 'chat', 'ls_temperature': 0.7}, 'parent_ids': ['068c993b-88b6-49a8-ac47-78e6e72ec6d3', 'c2541e9b-73f0-4bfc-81b1-35ea1354601e']}\n",
      "{'event': 'on_chat_model_stream', 'data': {'chunk': AIMessageChunk(content=',', additional_kwargs={}, response_metadata={}, id='run--724978ba-0918-48b1-acb0-7c6c19161f58')}, 'run_id': '724978ba-0918-48b1-acb0-7c6c19161f58', 'name': 'ChatGroq', 'tags': ['seq:step:1'], 'metadata': {'thread_id': '5', 'langgraph_step': 1, 'langgraph_node': 'SuperBot', 'langgraph_triggers': ('branch:to:SuperBot',), 'langgraph_path': ('__pregel_pull', 'SuperBot'), 'langgraph_checkpoint_ns': 'SuperBot:fdc70507-5736-3f0b-730c-2492fda0c7e5', 'checkpoint_ns': 'SuperBot:fdc70507-5736-3f0b-730c-2492fda0c7e5', 'ls_provider': 'groq', 'ls_model_name': 'llama3-8b-8192', 'ls_model_type': 'chat', 'ls_temperature': 0.7}, 'parent_ids': ['068c993b-88b6-49a8-ac47-78e6e72ec6d3', 'c2541e9b-73f0-4bfc-81b1-35ea1354601e']}\n",
      "{'event': 'on_chat_model_stream', 'data': {'chunk': AIMessageChunk(content=' or', additional_kwargs={}, response_metadata={}, id='run--724978ba-0918-48b1-acb0-7c6c19161f58')}, 'run_id': '724978ba-0918-48b1-acb0-7c6c19161f58', 'name': 'ChatGroq', 'tags': ['seq:step:1'], 'metadata': {'thread_id': '5', 'langgraph_step': 1, 'langgraph_node': 'SuperBot', 'langgraph_triggers': ('branch:to:SuperBot',), 'langgraph_path': ('__pregel_pull', 'SuperBot'), 'langgraph_checkpoint_ns': 'SuperBot:fdc70507-5736-3f0b-730c-2492fda0c7e5', 'checkpoint_ns': 'SuperBot:fdc70507-5736-3f0b-730c-2492fda0c7e5', 'ls_provider': 'groq', 'ls_model_name': 'llama3-8b-8192', 'ls_model_type': 'chat', 'ls_temperature': 0.7}, 'parent_ids': ['068c993b-88b6-49a8-ac47-78e6e72ec6d3', 'c2541e9b-73f0-4bfc-81b1-35ea1354601e']}\n",
      "{'event': 'on_chat_model_stream', 'data': {'chunk': AIMessageChunk(content=' something', additional_kwargs={}, response_metadata={}, id='run--724978ba-0918-48b1-acb0-7c6c19161f58')}, 'run_id': '724978ba-0918-48b1-acb0-7c6c19161f58', 'name': 'ChatGroq', 'tags': ['seq:step:1'], 'metadata': {'thread_id': '5', 'langgraph_step': 1, 'langgraph_node': 'SuperBot', 'langgraph_triggers': ('branch:to:SuperBot',), 'langgraph_path': ('__pregel_pull', 'SuperBot'), 'langgraph_checkpoint_ns': 'SuperBot:fdc70507-5736-3f0b-730c-2492fda0c7e5', 'checkpoint_ns': 'SuperBot:fdc70507-5736-3f0b-730c-2492fda0c7e5', 'ls_provider': 'groq', 'ls_model_name': 'llama3-8b-8192', 'ls_model_type': 'chat', 'ls_temperature': 0.7}, 'parent_ids': ['068c993b-88b6-49a8-ac47-78e6e72ec6d3', 'c2541e9b-73f0-4bfc-81b1-35ea1354601e']}\n",
      "{'event': 'on_chat_model_stream', 'data': {'chunk': AIMessageChunk(content=' else', additional_kwargs={}, response_metadata={}, id='run--724978ba-0918-48b1-acb0-7c6c19161f58')}, 'run_id': '724978ba-0918-48b1-acb0-7c6c19161f58', 'name': 'ChatGroq', 'tags': ['seq:step:1'], 'metadata': {'thread_id': '5', 'langgraph_step': 1, 'langgraph_node': 'SuperBot', 'langgraph_triggers': ('branch:to:SuperBot',), 'langgraph_path': ('__pregel_pull', 'SuperBot'), 'langgraph_checkpoint_ns': 'SuperBot:fdc70507-5736-3f0b-730c-2492fda0c7e5', 'checkpoint_ns': 'SuperBot:fdc70507-5736-3f0b-730c-2492fda0c7e5', 'ls_provider': 'groq', 'ls_model_name': 'llama3-8b-8192', 'ls_model_type': 'chat', 'ls_temperature': 0.7}, 'parent_ids': ['068c993b-88b6-49a8-ac47-78e6e72ec6d3', 'c2541e9b-73f0-4bfc-81b1-35ea1354601e']}\n",
      "{'event': 'on_chat_model_stream', 'data': {'chunk': AIMessageChunk(content=' entirely', additional_kwargs={}, response_metadata={}, id='run--724978ba-0918-48b1-acb0-7c6c19161f58')}, 'run_id': '724978ba-0918-48b1-acb0-7c6c19161f58', 'name': 'ChatGroq', 'tags': ['seq:step:1'], 'metadata': {'thread_id': '5', 'langgraph_step': 1, 'langgraph_node': 'SuperBot', 'langgraph_triggers': ('branch:to:SuperBot',), 'langgraph_path': ('__pregel_pull', 'SuperBot'), 'langgraph_checkpoint_ns': 'SuperBot:fdc70507-5736-3f0b-730c-2492fda0c7e5', 'checkpoint_ns': 'SuperBot:fdc70507-5736-3f0b-730c-2492fda0c7e5', 'ls_provider': 'groq', 'ls_model_name': 'llama3-8b-8192', 'ls_model_type': 'chat', 'ls_temperature': 0.7}, 'parent_ids': ['068c993b-88b6-49a8-ac47-78e6e72ec6d3', 'c2541e9b-73f0-4bfc-81b1-35ea1354601e']}\n",
      "{'event': 'on_chat_model_stream', 'data': {'chunk': AIMessageChunk(content='?', additional_kwargs={}, response_metadata={}, id='run--724978ba-0918-48b1-acb0-7c6c19161f58')}, 'run_id': '724978ba-0918-48b1-acb0-7c6c19161f58', 'name': 'ChatGroq', 'tags': ['seq:step:1'], 'metadata': {'thread_id': '5', 'langgraph_step': 1, 'langgraph_node': 'SuperBot', 'langgraph_triggers': ('branch:to:SuperBot',), 'langgraph_path': ('__pregel_pull', 'SuperBot'), 'langgraph_checkpoint_ns': 'SuperBot:fdc70507-5736-3f0b-730c-2492fda0c7e5', 'checkpoint_ns': 'SuperBot:fdc70507-5736-3f0b-730c-2492fda0c7e5', 'ls_provider': 'groq', 'ls_model_name': 'llama3-8b-8192', 'ls_model_type': 'chat', 'ls_temperature': 0.7}, 'parent_ids': ['068c993b-88b6-49a8-ac47-78e6e72ec6d3', 'c2541e9b-73f0-4bfc-81b1-35ea1354601e']}\n",
      "{'event': 'on_chat_model_stream', 'data': {'chunk': AIMessageChunk(content='', additional_kwargs={}, response_metadata={'finish_reason': 'stop', 'model_name': 'llama3-8b-8192', 'system_fingerprint': 'fp_8b7c3a83f7'}, id='run--724978ba-0918-48b1-acb0-7c6c19161f58', usage_metadata={'input_tokens': 26, 'output_tokens': 57, 'total_tokens': 83})}, 'run_id': '724978ba-0918-48b1-acb0-7c6c19161f58', 'name': 'ChatGroq', 'tags': ['seq:step:1'], 'metadata': {'thread_id': '5', 'langgraph_step': 1, 'langgraph_node': 'SuperBot', 'langgraph_triggers': ('branch:to:SuperBot',), 'langgraph_path': ('__pregel_pull', 'SuperBot'), 'langgraph_checkpoint_ns': 'SuperBot:fdc70507-5736-3f0b-730c-2492fda0c7e5', 'checkpoint_ns': 'SuperBot:fdc70507-5736-3f0b-730c-2492fda0c7e5', 'ls_provider': 'groq', 'ls_model_name': 'llama3-8b-8192', 'ls_model_type': 'chat', 'ls_temperature': 0.7}, 'parent_ids': ['068c993b-88b6-49a8-ac47-78e6e72ec6d3', 'c2541e9b-73f0-4bfc-81b1-35ea1354601e']}\n",
      "{'event': 'on_chat_model_end', 'data': {'output': AIMessage(content=\"Hi Shruti Kumari! Nice to meet you! It's great to hear that you enjoy playing Badminton! What's your favorite thing about playing the game? Is it the thrill of hitting a winning shot, the excitement of playing with friends, or something else entirely?\", additional_kwargs={}, response_metadata={'finish_reason': 'stop', 'model_name': 'llama3-8b-8192', 'system_fingerprint': 'fp_8b7c3a83f7'}, id='run--724978ba-0918-48b1-acb0-7c6c19161f58', usage_metadata={'input_tokens': 26, 'output_tokens': 57, 'total_tokens': 83}), 'input': {'messages': [[HumanMessage(content='Hi My name is shruti kumari and I like to play Badminton', additional_kwargs={}, response_metadata={}, id='cf9cbe9f-46ee-4d23-aa22-99402cde8854')]]}}, 'run_id': '724978ba-0918-48b1-acb0-7c6c19161f58', 'name': 'ChatGroq', 'tags': ['seq:step:1'], 'metadata': {'thread_id': '5', 'langgraph_step': 1, 'langgraph_node': 'SuperBot', 'langgraph_triggers': ('branch:to:SuperBot',), 'langgraph_path': ('__pregel_pull', 'SuperBot'), 'langgraph_checkpoint_ns': 'SuperBot:fdc70507-5736-3f0b-730c-2492fda0c7e5', 'checkpoint_ns': 'SuperBot:fdc70507-5736-3f0b-730c-2492fda0c7e5', 'ls_provider': 'groq', 'ls_model_name': 'llama3-8b-8192', 'ls_model_type': 'chat', 'ls_temperature': 0.7}, 'parent_ids': ['068c993b-88b6-49a8-ac47-78e6e72ec6d3', 'c2541e9b-73f0-4bfc-81b1-35ea1354601e']}\n",
      "{'event': 'on_chain_stream', 'run_id': 'c2541e9b-73f0-4bfc-81b1-35ea1354601e', 'name': 'SuperBot', 'tags': ['graph:step:1'], 'metadata': {'thread_id': '5', 'langgraph_step': 1, 'langgraph_node': 'SuperBot', 'langgraph_triggers': ('branch:to:SuperBot',), 'langgraph_path': ('__pregel_pull', 'SuperBot'), 'langgraph_checkpoint_ns': 'SuperBot:fdc70507-5736-3f0b-730c-2492fda0c7e5'}, 'data': {'chunk': {'messages': [AIMessage(content=\"Hi Shruti Kumari! Nice to meet you! It's great to hear that you enjoy playing Badminton! What's your favorite thing about playing the game? Is it the thrill of hitting a winning shot, the excitement of playing with friends, or something else entirely?\", additional_kwargs={}, response_metadata={'finish_reason': 'stop', 'model_name': 'llama3-8b-8192', 'system_fingerprint': 'fp_8b7c3a83f7'}, id='run--724978ba-0918-48b1-acb0-7c6c19161f58', usage_metadata={'input_tokens': 26, 'output_tokens': 57, 'total_tokens': 83})]}}, 'parent_ids': ['068c993b-88b6-49a8-ac47-78e6e72ec6d3']}\n",
      "{'event': 'on_chain_end', 'data': {'output': {'messages': [AIMessage(content=\"Hi Shruti Kumari! Nice to meet you! It's great to hear that you enjoy playing Badminton! What's your favorite thing about playing the game? Is it the thrill of hitting a winning shot, the excitement of playing with friends, or something else entirely?\", additional_kwargs={}, response_metadata={'finish_reason': 'stop', 'model_name': 'llama3-8b-8192', 'system_fingerprint': 'fp_8b7c3a83f7'}, id='run--724978ba-0918-48b1-acb0-7c6c19161f58', usage_metadata={'input_tokens': 26, 'output_tokens': 57, 'total_tokens': 83})]}, 'input': {'messages': [HumanMessage(content='Hi My name is shruti kumari and I like to play Badminton', additional_kwargs={}, response_metadata={}, id='cf9cbe9f-46ee-4d23-aa22-99402cde8854')]}}, 'run_id': 'c2541e9b-73f0-4bfc-81b1-35ea1354601e', 'name': 'SuperBot', 'tags': ['graph:step:1'], 'metadata': {'thread_id': '5', 'langgraph_step': 1, 'langgraph_node': 'SuperBot', 'langgraph_triggers': ('branch:to:SuperBot',), 'langgraph_path': ('__pregel_pull', 'SuperBot'), 'langgraph_checkpoint_ns': 'SuperBot:fdc70507-5736-3f0b-730c-2492fda0c7e5'}, 'parent_ids': ['068c993b-88b6-49a8-ac47-78e6e72ec6d3']}\n",
      "{'event': 'on_chain_stream', 'run_id': '068c993b-88b6-49a8-ac47-78e6e72ec6d3', 'name': 'LangGraph', 'tags': [], 'metadata': {'thread_id': '5'}, 'data': {'chunk': {'SuperBot': {'messages': [AIMessage(content=\"Hi Shruti Kumari! Nice to meet you! It's great to hear that you enjoy playing Badminton! What's your favorite thing about playing the game? Is it the thrill of hitting a winning shot, the excitement of playing with friends, or something else entirely?\", additional_kwargs={}, response_metadata={'finish_reason': 'stop', 'model_name': 'llama3-8b-8192', 'system_fingerprint': 'fp_8b7c3a83f7'}, id='run--724978ba-0918-48b1-acb0-7c6c19161f58', usage_metadata={'input_tokens': 26, 'output_tokens': 57, 'total_tokens': 83})]}}}, 'parent_ids': []}\n",
      "{'event': 'on_chain_end', 'data': {'output': {'messages': [HumanMessage(content='Hi My name is shruti kumari and I like to play Badminton', additional_kwargs={}, response_metadata={}, id='cf9cbe9f-46ee-4d23-aa22-99402cde8854'), AIMessage(content=\"Hi Shruti Kumari! Nice to meet you! It's great to hear that you enjoy playing Badminton! What's your favorite thing about playing the game? Is it the thrill of hitting a winning shot, the excitement of playing with friends, or something else entirely?\", additional_kwargs={}, response_metadata={'finish_reason': 'stop', 'model_name': 'llama3-8b-8192', 'system_fingerprint': 'fp_8b7c3a83f7'}, id='run--724978ba-0918-48b1-acb0-7c6c19161f58', usage_metadata={'input_tokens': 26, 'output_tokens': 57, 'total_tokens': 83})]}}, 'run_id': '068c993b-88b6-49a8-ac47-78e6e72ec6d3', 'name': 'LangGraph', 'tags': [], 'metadata': {'thread_id': '5'}, 'parent_ids': []}\n"
     ]
    }
   ],
   "source": [
    "config = {\"configurable\": {\"thread_id\": \"5\"}}\n",
    "\n",
    "async for event in graph_builder.astream_events({\"messages\":[\"Hi My name is shruti kumari and I like to play Badminton\"]},config,version=\"v2\"):\n",
    "    print(event)"
   ]
  }
 ],
 "metadata": {
  "kernelspec": {
   "display_name": ".venv",
   "language": "python",
   "name": "python3"
  },
  "language_info": {
   "codemirror_mode": {
    "name": "ipython",
    "version": 3
   },
   "file_extension": ".py",
   "mimetype": "text/x-python",
   "name": "python",
   "nbconvert_exporter": "python",
   "pygments_lexer": "ipython3",
   "version": "3.12.11"
  }
 },
 "nbformat": 4,
 "nbformat_minor": 5
}
